{
 "cells": [
  {
   "cell_type": "code",
   "execution_count": 1,
   "id": "0af9b25f-6a85-4d2a-9c9e-4a9af9095b5b",
   "metadata": {},
   "outputs": [],
   "source": [
    "import pandas as pd\n",
    "import numpy as np\n",
    "import seaborn as sns\n",
    "import warnings\n",
    "warnings.filterwarnings(\"ignore\")\n",
    "import matplotlib.pyplot as plt\n",
    "from sklearn.preprocessing import LabelEncoder\n",
    "from sklearn.preprocessing import StandardScaler\n",
    "from sklearn.model_selection import train_test_split\n",
    "from statsmodels.stats.outliers_influence import variance_inflation_factor\n",
    "from sklearn.metrics import mean_squared_error,r2_score\n",
    "import statsmodels.api as sm\n",
    "from sklearn.linear_model import LinearRegression\n",
    "import math\n",
    "from scipy import stats"
   ]
  },
  {
   "cell_type": "code",
   "execution_count": 2,
   "id": "5c4c3f67-b87c-4e36-bc57-5196f8b35fe9",
   "metadata": {},
   "outputs": [
    {
     "data": {
      "text/plain": [
       "Index(['id', 'name', 'host_id', 'host_name', 'neighbourhood_group',\n",
       "       'neighbourhood', 'latitude', 'longitude', 'room_type', 'price',\n",
       "       'minimum_nights', 'number_of_reviews', 'last_review',\n",
       "       'reviews_per_month', 'calculated_host_listings_count',\n",
       "       'availability_365', 'number_of_reviews_ltm', 'license'],\n",
       "      dtype='object')"
      ]
     },
     "execution_count": 2,
     "metadata": {},
     "output_type": "execute_result"
    }
   ],
   "source": [
    "data_2021 = pd.read_csv(\"../data/airbnb_listings_2021.csv\")\n",
    "data_2021.columns"
   ]
  },
  {
   "cell_type": "code",
   "execution_count": 3,
   "id": "07eec69b-5673-4713-8e8a-f3daff70ebf9",
   "metadata": {},
   "outputs": [],
   "source": [
    "# Dropping irrelevant columns and those that are unethical to use\n",
    "data_2021.drop([\"id\", \"host_name\", \"last_review\", \"license\", \"name\", \"host_id\"], axis=1, inplace=True)"
   ]
  },
  {
   "cell_type": "code",
   "execution_count": 4,
   "id": "be509c7d-0b46-48f6-9375-f5c55e0b36bc",
   "metadata": {},
   "outputs": [
    {
     "data": {
      "text/plain": [
       "neighbourhood_group               0\n",
       "neighbourhood                     0\n",
       "latitude                          0\n",
       "longitude                         0\n",
       "room_type                         0\n",
       "price                             0\n",
       "minimum_nights                    0\n",
       "number_of_reviews                 0\n",
       "reviews_per_month                 0\n",
       "calculated_host_listings_count    0\n",
       "availability_365                  0\n",
       "number_of_reviews_ltm             0\n",
       "dtype: int64"
      ]
     },
     "execution_count": 4,
     "metadata": {},
     "output_type": "execute_result"
    }
   ],
   "source": [
    "# Replacing the missing values for numerical columns with mean and mode\n",
    "data_2021[\"number_of_reviews\"] = data_2021[\"number_of_reviews\"].fillna(\n",
    "    data_2021[\"number_of_reviews\"].mean()\n",
    ")\n",
    "data_2021[\"price\"] = data_2021[\"price\"].fillna(data_2021[\"price\"].mean())\n",
    "data_2021[\"minimum_nights\"] = data_2021[\"minimum_nights\"].fillna(\n",
    "    data_2021[\"minimum_nights\"].mean()\n",
    ")\n",
    "data_2021[\"reviews_per_month\"] = data_2021[\"reviews_per_month\"].fillna(\n",
    "    data_2021[\"reviews_per_month\"].mean()\n",
    ")\n",
    "data_2021[\"calculated_host_listings_count\"] = data_2021[\n",
    "    \"calculated_host_listings_count\"\n",
    "].fillna(data_2021[\"calculated_host_listings_count\"].mean())\n",
    "data_2021[\"availability_365\"] = data_2021[\"availability_365\"].fillna(\n",
    "    data_2021[\"availability_365\"].mean()\n",
    ")\n",
    "data_2021[\"neighbourhood_group\"] = data_2021[\"neighbourhood_group\"].fillna(\n",
    "    data_2021[\"neighbourhood_group\"].mode()[0]\n",
    ")\n",
    "data_2021.isnull().sum()"
   ]
  },
  {
   "cell_type": "code",
   "execution_count": 5,
   "id": "ca223c6e-50a1-4c63-a0ce-0d8d9f74e8bc",
   "metadata": {},
   "outputs": [],
   "source": [
    "#label encoding categorical columns\n",
    "label_encoder = LabelEncoder()\n",
    "data_2021['neighbourhood_group'] = label_encoder.fit_transform(data_2021['neighbourhood_group'])\n",
    "data_2021['neighbourhood'] = label_encoder.fit_transform(data_2021['neighbourhood'])\n",
    "data_2021['room_type'] = label_encoder.fit_transform(data_2021['room_type'])"
   ]
  },
  {
   "cell_type": "code",
   "execution_count": 6,
   "id": "bce60746-c16a-4b1b-9bf1-ee92d134d9ff",
   "metadata": {},
   "outputs": [],
   "source": [
    "#Remove outliers\n",
    "z_scores = stats.zscore(data_2021)\n",
    "abs_z_scores = np.abs(z_scores)\n",
    "filtered_entries = (abs_z_scores < 2).all(axis=1)\n",
    "new_data = data_2021[filtered_entries]"
   ]
  },
  {
   "cell_type": "code",
   "execution_count": 7,
   "id": "172c4f76-2f31-4855-b7dc-6735972a867a",
   "metadata": {},
   "outputs": [],
   "source": [
    "#Scaling the data\n",
    "scaler = StandardScaler()\n",
    "#scaler.fit(new_data)\n",
    "scaled_features = scaler.fit_transform(new_data)\n",
    "scaled_features_data = pd.DataFrame(scaled_features, index=new_data.index, columns=new_data.columns)"
   ]
  },
  {
   "cell_type": "code",
   "execution_count": 8,
   "id": "85a6ceff-d26b-4146-aa42-65a7c46af04e",
   "metadata": {},
   "outputs": [],
   "source": [
    "#Creating train and test data\n",
    "X = scaled_features_data.drop('price',axis=1)\n",
    "y = scaled_features_data['price']\n",
    "X_train, X_test, y_train, y_test = train_test_split(X,y , test_size = 0.2, random_state=42)"
   ]
  },
  {
   "cell_type": "code",
   "execution_count": 9,
   "id": "a83c5024-8c55-49a2-9385-15394c9c6c71",
   "metadata": {},
   "outputs": [
    {
     "name": "stdout",
     "output_type": "stream",
     "text": [
      "                           feature       VIF\n",
      "0              neighbourhood_group  1.809058\n",
      "1                    neighbourhood  1.133370\n",
      "2                         latitude  1.866421\n",
      "3                        longitude  1.118886\n",
      "4                        room_type  1.079142\n",
      "5                   minimum_nights  1.299873\n",
      "6                number_of_reviews  1.242535\n",
      "7                reviews_per_month  1.431738\n",
      "8   calculated_host_listings_count  1.112164\n",
      "9                 availability_365  1.125012\n",
      "10           number_of_reviews_ltm  1.727239\n"
     ]
    }
   ],
   "source": [
    "#checking for multicollinearity \n",
    "#VIF starts at 1 and has no upper limit\n",
    "#VIF = 1, no correlation between the independent variable and the other variables\n",
    "#VIF exceeding 5 or 10 indicates high multicollinearity between this independent variable and the others\n",
    "\n",
    "# VIF dataframe \n",
    "vif_data = pd.DataFrame() \n",
    "vif_data[\"feature\"] = X.columns \n",
    "\n",
    "# calculating VIF for each feature \n",
    "vif_data[\"VIF\"] = [variance_inflation_factor(X_train.values, i) \n",
    "                          for i in range(len(X_train.columns))] \n",
    "  \n",
    "print(vif_data)"
   ]
  },
  {
   "cell_type": "code",
   "execution_count": 10,
   "id": "1b194add-e073-4df9-92d3-2931fb4797aa",
   "metadata": {},
   "outputs": [
    {
     "name": "stdout",
     "output_type": "stream",
     "text": [
      "MSE 0.7686939933701766\n",
      "RMSE 0.8767519565818924\n",
      "R2 Score 0.2386353744429751\n",
      "Adj R^2 value: 0.2371042938431347\n"
     ]
    }
   ],
   "source": [
    "#Linear Regression\n",
    "regressor = LinearRegression()\n",
    "regressor.fit(X_train, y_train)\n",
    "y_pred = regressor.predict(X_test)\n",
    "\n",
    "print('MSE',mean_squared_error(y_test, y_pred))\n",
    "print('RMSE',math.sqrt(mean_squared_error(y_test, y_pred)))\n",
    "print('R2 Score',r2_score(y_test, y_pred))\n",
    "print('Adj R^2 value:',1 - (1-regressor.score(X_test, y_test))*(len(y_test)-1)/(len(y_test)-X_test.shape[1]-1))"
   ]
  },
  {
   "cell_type": "code",
   "execution_count": 11,
   "id": "ac18f679-18ad-4855-a837-0d3bf6cd8b4e",
   "metadata": {},
   "outputs": [
    {
     "name": "stdout",
     "output_type": "stream",
     "text": [
      "r2/variance :  0.2507332849321956\n",
      "                            OLS Regression Results                            \n",
      "==============================================================================\n",
      "Dep. Variable:                  price   R-squared:                       0.251\n",
      "Model:                            OLS   Adj. R-squared:                  0.250\n",
      "Method:                 Least Squares   F-statistic:                     833.4\n",
      "Date:                Mon, 09 May 2022   Prob (F-statistic):               0.00\n",
      "Time:                        21:08:56   Log-Likelihood:                -34932.\n",
      "No. Observations:               27406   AIC:                         6.989e+04\n",
      "Df Residuals:                   27394   BIC:                         6.999e+04\n",
      "Df Model:                          11                                         \n",
      "Covariance Type:            nonrobust                                         \n",
      "==================================================================================================\n",
      "                                     coef    std err          t      P>|t|      [0.025      0.975]\n",
      "--------------------------------------------------------------------------------------------------\n",
      "const                           2.179e-14      0.005   4.17e-12      1.000      -0.010       0.010\n",
      "neighbourhood_group                0.0188      0.007      2.679      0.007       0.005       0.033\n",
      "neighbourhood                      0.0171      0.006      3.071      0.002       0.006       0.028\n",
      "latitude                           0.0387      0.007      5.417      0.000       0.025       0.053\n",
      "longitude                         -0.2150      0.006    -38.893      0.000      -0.226      -0.204\n",
      "room_type                         -0.3484      0.005    -64.193      0.000      -0.359      -0.338\n",
      "minimum_nights                    -0.1245      0.006    -20.864      0.000      -0.136      -0.113\n",
      "number_of_reviews                 -0.0715      0.006    -12.266      0.000      -0.083      -0.060\n",
      "reviews_per_month                  0.0489      0.006      7.839      0.000       0.037       0.061\n",
      "calculated_host_listings_count     0.0039      0.006      0.713      0.476      -0.007       0.015\n",
      "availability_365                   0.1737      0.006     31.244      0.000       0.163       0.185\n",
      "number_of_reviews_ltm             -0.0230      0.007     -3.339      0.001      -0.036      -0.009\n",
      "==============================================================================\n",
      "Omnibus:                    13813.140   Durbin-Watson:                   1.702\n",
      "Prob(Omnibus):                  0.000   Jarque-Bera (JB):            92271.673\n",
      "Skew:                           2.377   Prob(JB):                         0.00\n",
      "Kurtosis:                      10.630   Cond. No.                         2.63\n",
      "==============================================================================\n",
      "\n",
      "Notes:\n",
      "[1] Standard Errors assume that the covariance matrix of the errors is correctly specified.\n"
     ]
    }
   ],
   "source": [
    "#Regression output\n",
    "X = sm.add_constant(X)\n",
    "stats_model = sm.OLS(y,X)\n",
    "results = stats_model.fit()\n",
    "print (\"r2/variance : \", results.rsquared)\n",
    "print(results.summary())"
   ]
  },
  {
   "cell_type": "code",
   "execution_count": 40,
   "id": "cf9dc939-4939-4fdf-a890-ec1647279459",
   "metadata": {},
   "outputs": [
    {
     "data": {
      "text/plain": [
       "Text(0.5, 1.0, 'Model prediction')"
      ]
     },
     "execution_count": 40,
     "metadata": {},
     "output_type": "execute_result"
    },
    {
     "data": {
      "image/png": "[encoded data removed]",
      "text/plain": [
       "<Figure size 1440x216 with 1 Axes>"
      ]
     },
     "metadata": {
      "needs_background": "light"
     },
     "output_type": "display_data"
    }
   ],
   "source": [
    "#model prediction\n",
    "#price prediction\n",
    "predictions = regressor.predict(X_test)\n",
    "plt.figure(figsize=(20,3))\n",
    "sns.regplot(y=y_test, x=predictions, scatter_kws={\"color\": \"lightblue\"}, line_kws={\"color\": \"blue\"})\n",
    "plt.title('Model prediction')"
   ]
  },
  {
   "cell_type": "code",
   "execution_count": 39,
   "id": "f4c116d1-1e81-434d-926f-2d9b0fa8bb92",
   "metadata": {},
   "outputs": [
    {
     "data": {
      "text/html": [
       "<div>\n",
       "<style scoped>\n",
       "    .dataframe tbody tr th:only-of-type {\n",
       "        vertical-align: middle;\n",
       "    }\n",
       "\n",
       "    .dataframe tbody tr th {\n",
       "        vertical-align: top;\n",
       "    }\n",
       "\n",
       "    .dataframe thead th {\n",
       "        text-align: right;\n",
       "    }\n",
       "</style>\n",
       "<table border=\"1\" class=\"dataframe\">\n",
       "  <thead>\n",
       "    <tr style=\"text-align: right;\">\n",
       "      <th></th>\n",
       "      <th>Actual Values</th>\n",
       "      <th>Predicted Values</th>\n",
       "    </tr>\n",
       "  </thead>\n",
       "  <tbody>\n",
       "    <tr>\n",
       "      <th>0</th>\n",
       "      <td>1.094160</td>\n",
       "      <td>0.543019</td>\n",
       "    </tr>\n",
       "    <tr>\n",
       "      <th>1</th>\n",
       "      <td>-0.973390</td>\n",
       "      <td>-0.297634</td>\n",
       "    </tr>\n",
       "    <tr>\n",
       "      <th>2</th>\n",
       "      <td>-0.669338</td>\n",
       "      <td>-0.380366</td>\n",
       "    </tr>\n",
       "    <tr>\n",
       "      <th>3</th>\n",
       "      <td>-0.434784</td>\n",
       "      <td>-0.486117</td>\n",
       "    </tr>\n",
       "    <tr>\n",
       "      <th>4</th>\n",
       "      <td>0.425247</td>\n",
       "      <td>0.366998</td>\n",
       "    </tr>\n",
       "    <tr>\n",
       "      <th>5</th>\n",
       "      <td>0.868294</td>\n",
       "      <td>0.382654</td>\n",
       "    </tr>\n",
       "    <tr>\n",
       "      <th>6</th>\n",
       "      <td>-0.460846</td>\n",
       "      <td>0.188328</td>\n",
       "    </tr>\n",
       "    <tr>\n",
       "      <th>7</th>\n",
       "      <td>-0.530343</td>\n",
       "      <td>-0.891592</td>\n",
       "    </tr>\n",
       "    <tr>\n",
       "      <th>8</th>\n",
       "      <td>-0.478220</td>\n",
       "      <td>-0.401254</td>\n",
       "    </tr>\n",
       "    <tr>\n",
       "      <th>9</th>\n",
       "      <td>-0.269728</td>\n",
       "      <td>0.429613</td>\n",
       "    </tr>\n",
       "  </tbody>\n",
       "</table>\n",
       "</div>"
      ],
      "text/plain": [
       "   Actual Values  Predicted Values\n",
       "0       1.094160          0.543019\n",
       "1      -0.973390         -0.297634\n",
       "2      -0.669338         -0.380366\n",
       "3      -0.434784         -0.486117\n",
       "4       0.425247          0.366998\n",
       "5       0.868294          0.382654\n",
       "6      -0.460846          0.188328\n",
       "7      -0.530343         -0.891592\n",
       "8      -0.478220         -0.401254\n",
       "9      -0.269728          0.429613"
      ]
     },
     "execution_count": 39,
     "metadata": {},
     "output_type": "execute_result"
    }
   ],
   "source": [
    "#Actual vs. predicted values\n",
    "error = pd.DataFrame({'Actual Values': np.array(y_test).flatten(), 'Predicted Values': predictions.flatten()})\n",
    "error.head(10)"
   ]
  },
  {
   "cell_type": "code",
   "execution_count": null,
   "id": "d4c1c339-cdfd-4a52-ba45-940d7cbad5b1",
   "metadata": {},
   "outputs": [],
   "source": []
  }
 ],
 "metadata": {
  "environment": {
   "kernel": "python3",
   "name": "common-cpu.m91",
   "type": "gcloud",
   "uri": "gcr.io/deeplearning-platform-release/base-cpu:m91"
  },
  "kernelspec": {
   "display_name": "Python 3",
   "language": "python",
   "name": "python3"
  },
  "language_info": {
   "codemirror_mode": {
    "name": "ipython",
    "version": 3
   },
   "file_extension": ".py",
   "mimetype": "text/x-python",
   "name": "python",
   "nbconvert_exporter": "python",
   "pygments_lexer": "ipython3",
   "version": "3.7.12"
  }
 },
 "nbformat": 4,
 "nbformat_minor": 5
}
