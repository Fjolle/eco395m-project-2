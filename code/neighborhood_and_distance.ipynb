{
 "cells": [
  {
   "cell_type": "code",
   "execution_count": 25,
   "id": "a34c97c9",
   "metadata": {},
   "outputs": [],
   "source": [
    "import pandas as pd\n",
    "import json\n",
    "import math\n",
    "import numpy as np\n",
    "from shapely.geometry import shape, Point\n",
    "from readtable import getairbnbdata\n",
    "from sklearn import neighbors"
   ]
  },
  {
   "cell_type": "code",
   "execution_count": 20,
   "id": "fba49c45",
   "metadata": {},
   "outputs": [],
   "source": [
    "lauri_data = getairbnbdata()\n",
    "nycmap2020 = json.load(open(\"../data/2020_Neighborhood_Tabulation_Areas.geojson\"))\n",
    "station_map = json.load(open(\"../data/Subway_Stations.geojson\"))\n",
    "parks_map = json.load(open(\"../data/Parks_Zones.geojson\"))\n"
   ]
  },
  {
   "cell_type": "code",
   "execution_count": 21,
   "id": "00978263",
   "metadata": {},
   "outputs": [
    {
     "name": "stderr",
     "output_type": "stream",
     "text": [
      "/var/folders/v4/wdkx1z_x4k709_8f6lj5mbm00000gn/T/ipykernel_70379/2123701816.py:7: SettingWithCopyWarning: \n",
      "A value is trying to be set on a copy of a slice from a DataFrame\n",
      "\n",
      "See the caveats in the documentation: https://pandas.pydata.org/pandas-docs/stable/user_guide/indexing.html#returning-a-view-versus-a-copy\n",
      "  lauri_data[\"new_neighbourhood\"][i] = feature[\"properties\"][\"ntaname\"]\n"
     ]
    }
   ],
   "source": [
    "lauri_data[\"new_neighbourhood\"] = \"\"\n",
    "\n",
    "for i, row in lauri_data.iterrows():\n",
    "    for feature in nycmap2020['features']:\n",
    "        polygon = shape(feature['geometry'])\n",
    "        if polygon.contains(Point(row[\"longitude\"],row[\"latitude\"])):\n",
    "            lauri_data[\"new_neighbourhood\"][i] = feature[\"properties\"][\"ntaname\"]"
   ]
  },
  {
   "cell_type": "code",
   "execution_count": 39,
   "id": "9e1c13b1",
   "metadata": {},
   "outputs": [],
   "source": [
    "# retrieve latitude and longitude of each station\n",
    "station_lat = []\n",
    "station_lon = []\n",
    "for n in station_map['features']:\n",
    "    station_lat.append(n['geometry']['coordinates'][1])\n",
    "    station_lon.append(n['geometry']['coordinates'][0])\n",
    "\n",
    "stations = pd.DataFrame({\"latitude\": station_lat, \"longitude\": station_lon})\n",
    "\n",
    "lauri_data = lauri_data[lauri_data['latitude'].notna()]\n",
    "lauri_data = lauri_data[lauri_data['longitude'].notna()]\n",
    "\n",
    "\n",
    "# convert latitude and longitude to radians and zip them into coordinates\n",
    "stations['coordinate'] = list(zip(stations['latitude']*math.pi / 180, stations['longitude']*math.pi / 180))\n",
    "lauri_data['coordinate'] = list(zip(lauri_data['latitude']*math.pi / 180, lauri_data['longitude']*math.pi / 180))\n",
    "\n",
    "station_location = np.asarray(list(stations['coordinate']))\n",
    "tree = neighbors.BallTree(station_location, metric=\"haversine\")\n",
    "\n",
    "airbnb_location = np.asarray(list(lauri_data['coordinate']))\n",
    "station_dist, _ = tree.query(X=airbnb_location, k=1)\n",
    "lauri_data['station_dist'] = station_dist\n",
    "lauri_data['station_dist'] = lauri_data['station_dist'].apply(lambda x: x*3960)\n",
    "\n",
    "# in new york of all places (but for walksable streets in general), manhattan distance would be more applicable\n",
    "tree2 = neighbors.BallTree(station_location, metric=\"manhattan\")\n",
    "station_dist2, _ = tree2.query(X=airbnb_location, k=1)\n",
    "lauri_data['station_dist2'] = station_dist2\n",
    "lauri_data['station_dist2'] = lauri_data['station_dist2'].apply(lambda x: x*3960)\n"
   ]
  },
  {
   "cell_type": "code",
   "execution_count": 40,
   "id": "e8d9d628",
   "metadata": {},
   "outputs": [],
   "source": [
    "park_lat = []\n",
    "park_lon = []\n",
    "\n",
    "# get each latitude longitude from the polygons within each park\n",
    "for p in parks_map['features']:\n",
    "    for c in p['geometry']['coordinates'][0][0]:\n",
    "        park_lat.append(c[1])\n",
    "        park_lon.append(c[0])\n",
    "    \n",
    "parks = pd.DataFrame({\"latitude\": park_lat, \"longitude\": park_lon})\n",
    "\n",
    "\n",
    "# convert latitude and longitude to radians and zip them into coordinates\n",
    "parks['coordinate'] = list(zip(parks['latitude']*math.pi / 180, parks['longitude']*math.pi / 180))\n",
    "\n",
    "# calculate distance between each coordinate\n",
    "\n",
    "parks_location = np.asarray(list(parks['coordinate']))\n",
    "tree3 = neighbors.BallTree(parks_location, metric=\"haversine\")\n",
    "\n",
    "park_dist, _ = tree3.query(X=airbnb_location, k=1)\n",
    "lauri_data['park_dist'] = park_dist\n",
    "lauri_data['park_dist'] = lauri_data['park_dist'].apply(lambda x: x*3960)\n",
    "\n",
    "# in new york of all places (but for walksable streets in general), manhattan distance would be more applicable\n",
    "tree4 = neighbors.BallTree(parks_location, metric=\"manhattan\")\n",
    "park_dist2, _ = tree4.query(X=airbnb_location, k=1)\n",
    "lauri_data['park_dist2'] = park_dist2\n",
    "lauri_data['park_dist2'] = lauri_data['park_dist2'].apply(lambda x: x*3960)"
   ]
  },
  {
   "cell_type": "code",
   "execution_count": 42,
   "id": "d81eaad7",
   "metadata": {},
   "outputs": [],
   "source": [
    "#lauri_data.to_csv(\"cleaned_data_updated.csv\")"
   ]
  }
 ],
 "metadata": {
  "kernelspec": {
   "display_name": "Python 3 (ipykernel)",
   "language": "python",
   "name": "python3"
  },
  "language_info": {
   "codemirror_mode": {
    "name": "ipython",
    "version": 3
   },
   "file_extension": ".py",
   "mimetype": "text/x-python",
   "name": "python",
   "nbconvert_exporter": "python",
   "pygments_lexer": "ipython3",
   "version": "3.9.10"
  }
 },
 "nbformat": 4,
 "nbformat_minor": 5
}
