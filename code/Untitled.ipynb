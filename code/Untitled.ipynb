{
 "cells": [
  {
   "cell_type": "code",
   "execution_count": 43,
   "id": "771a737c-bee9-4f91-9abd-5dec5cc45687",
   "metadata": {},
   "outputs": [],
   "source": [
    "# Libraries\n",
    "import pandas as pd\n",
    "from readtable import *\n",
    "import numpy as np"
   ]
  },
  {
   "cell_type": "code",
   "execution_count": 46,
   "id": "14f389e8-e509-437c-a6f6-4ba2ca0944b1",
   "metadata": {},
   "outputs": [
    {
     "data": {
      "text/plain": [
       "<bound method NDFrame.head of              id  month  List_month last_scraped      host_id    host_name  \\\n",
       "0          3831      0           1   2021-09-02       4869.0  LisaRoxanne   \n",
       "1          5136      0           1   2021-09-02       7378.0      Rebecca   \n",
       "2          5178      0           1   2021-09-02       8967.0     Shunichi   \n",
       "3          5803      0           1   2021-09-02       9744.0       Laurie   \n",
       "4          7064      0           1   2021-09-02      17297.0       Joelle   \n",
       "...         ...    ...         ...          ...          ...          ...   \n",
       "50416  53662330      2           1   2021-12-05  100146245.0        Serin   \n",
       "50417  53662542      2           1   2021-12-05  100146245.0        Serin   \n",
       "50418  53662772      2           1   2021-12-05  337879004.0        Sinem   \n",
       "50419  53663081      2           1   2021-12-05  337879004.0        Sinem   \n",
       "50420  53665099      2           1   2021-12-05   60105727.0          Lee   \n",
       "\n",
       "      host_since                                    host_location  \\\n",
       "0     2008-12-07                New York, New York, United States   \n",
       "1     2009-02-03                Brooklyn, New York, United States   \n",
       "2     2009-03-03                New York, New York, United States   \n",
       "3     2009-03-10                New York, New York, United States   \n",
       "4     2009-05-15                New York, New York, United States   \n",
       "...          ...                                              ...   \n",
       "50416 2016-10-18                                               US   \n",
       "50417 2016-10-18                                               US   \n",
       "50418 2020-02-21                New York, New York, United States   \n",
       "50419 2020-02-21                New York, New York, United States   \n",
       "50420 2016-02-23  Washington, District of Columbia, United States   \n",
       "\n",
       "       host_response_time host_response_rate  ...    avg_lat    avg_lon  \\\n",
       "0            within a day                50%  ...  40.684940 -73.957650   \n",
       "1            within a day                50%  ...  40.662650 -73.994540   \n",
       "2          within an hour               100%  ...  40.764570 -73.983170   \n",
       "3      within a few hours               100%  ...  40.668010 -73.987840   \n",
       "4                    None               None  ...  40.712480 -73.958810   \n",
       "...                   ...                ...  ...        ...        ...   \n",
       "50416  within a few hours                97%  ...  40.632222 -74.136715   \n",
       "50417  within a few hours                97%  ...  40.630502 -74.136142   \n",
       "50418      within an hour                94%  ...  40.753887 -73.980536   \n",
       "50419      within an hour                94%  ...  40.755569 -73.981976   \n",
       "50420      within an hour               100%  ...  40.677560 -73.894990   \n",
       "\n",
       "       first_appearance last_app cum_sum List_month_byhost_month  \\\n",
       "0                   1.0      0.0       1                       1   \n",
       "1                   1.0      0.0       1                       1   \n",
       "2                   1.0      0.0       1                       1   \n",
       "3                   1.0      0.0       3                       3   \n",
       "4                   1.0      0.0       2                       2   \n",
       "...                 ...      ...     ...                     ...   \n",
       "50416               1.0      1.0       6                       6   \n",
       "50417               1.0      1.0       6                       6   \n",
       "50418               1.0      1.0      13                      13   \n",
       "50419               1.0      1.0      13                      13   \n",
       "50420               1.0      1.0       1                       1   \n",
       "\n",
       "       List_month_host_overall  List_month_id_overall hotel_dum  \\\n",
       "0                            3                      3         0   \n",
       "1                            3                      3         0   \n",
       "2                            3                      3         0   \n",
       "3                            9                      3         0   \n",
       "4                            6                      3         0   \n",
       "...                        ...                    ...       ...   \n",
       "50416                        6                      1         0   \n",
       "50417                        6                      1         0   \n",
       "50418                       13                      1         0   \n",
       "50419                       13                      1         0   \n",
       "50420                        1                      1         0   \n",
       "\n",
       "      List_month_byneigh  \n",
       "0                   2679  \n",
       "1                    286  \n",
       "2                   1523  \n",
       "3                    208  \n",
       "4                   2579  \n",
       "...                  ...  \n",
       "50416                 21  \n",
       "50417                 21  \n",
       "50418               1636  \n",
       "50419               1636  \n",
       "50420                138  \n",
       "\n",
       "[50421 rows x 64 columns]>"
      ]
     },
     "execution_count": 46,
     "metadata": {},
     "output_type": "execute_result"
    }
   ],
   "source": [
    "# Data\n",
    "airbnb = getairbnbdata()"
   ]
  },
  {
   "cell_type": "code",
   "execution_count": 33,
   "id": "3721fb51-f318-44e6-a1e6-7fe045fcec8f",
   "metadata": {},
   "outputs": [
    {
     "data": {
      "text/plain": [
       "id                                  int64\n",
       "month                               int64\n",
       "List_month                          int64\n",
       "host_since                        float64\n",
       "host_location                      object\n",
       "host_response_time                 object\n",
       "host_response_rate                 object\n",
       "host_is_superhost                  object\n",
       "host_listings_count               float64\n",
       "host_total_listings_count         float64\n",
       "neighbourhood_cleansed             object\n",
       "neighbourhood_group_cleansed       object\n",
       "property_type                      object\n",
       "room_type                          object\n",
       "accommodates                      float64\n",
       "bathrooms                          object\n",
       "bedrooms                          float64\n",
       "beds                              float64\n",
       "price                             float64\n",
       "minimum_nights                    float64\n",
       "maximum_nights                    float64\n",
       "has_availability                   object\n",
       "availability_30                   float64\n",
       "availability_60                   float64\n",
       "availability_90                   float64\n",
       "availability_365                  float64\n",
       "number_of_reviews                 float64\n",
       "review_scores_rating              float64\n",
       "review_scores_accuracy            float64\n",
       "review_scores_cleanliness         float64\n",
       "review_scores_checkin             float64\n",
       "review_scores_communication       float64\n",
       "review_scores_location            float64\n",
       "review_scores_value               float64\n",
       "calculated_host_listings_count    float64\n",
       "reviews_per_month                 float64\n",
       "amenities                          object\n",
       "days_since_rev                    float64\n",
       "days_since_first_rev              float64\n",
       "host_length                       float64\n",
       "host_is_superhost_dum               int64\n",
       "room_type_dum                       int64\n",
       "instant_bookable_dum                int64\n",
       "avg_lat                           float64\n",
       "avg_lon                           float64\n",
       "first_appearance                  float64\n",
       "last_app                          float64\n",
       "cum_sum                             int64\n",
       "List_month_byhost_month             int64\n",
       "List_month_host_overall             int64\n",
       "List_month_id_overall               int64\n",
       "hotel_dum                           int64\n",
       "List_month_byneigh                  int64\n",
       "dtype: object"
      ]
     },
     "execution_count": 33,
     "metadata": {},
     "output_type": "execute_result"
    }
   ],
   "source": [
    "airbnb['host_since'] = (pd.to_datetime(airbnb['last_scraped']) - pd.to_datetime(airbnb['host_since'])) / np.timedelta64(1, 'D')\n",
    "drop = ['last_scraped', 'host_id', 'host_name', 'neighbourhood',\n",
    "       'latitude', 'longitude',\n",
    "       'first_review', 'last_review',\n",
    "       'scrape_batch', 'batch_YRMO',\n",
    "       'instant_bookable',\n",
    "       'host_location']\n",
    "data = airbnb.drop(drop, axis = 1)\n",
    "data.dtypes\n"
   ]
  },
  {
   "cell_type": "code",
   "execution_count": null,
   "id": "96918934-d888-41e9-98ae-b1bca9a40661",
   "metadata": {},
   "outputs": [],
   "source": [
    "# For gradient boosting, need all columns to be of same type\n",
    "# Convert float to int\n"
   ]
  },
  {
   "cell_type": "code",
   "execution_count": 48,
   "id": "18daa45a-6534-437b-bba7-8b9666094560",
   "metadata": {},
   "outputs": [
    {
     "name": "stdout",
     "output_type": "stream",
     "text": [
      "Index(['id', 'month', 'List_month', 'last_scraped', 'host_id', 'host_name',\n",
      "       'host_since', 'host_location', 'host_response_time',\n",
      "       'host_response_rate', 'host_is_superhost', 'host_listings_count',\n",
      "       'host_total_listings_count', 'neighbourhood', 'neighbourhood_cleansed',\n",
      "       'neighbourhood_group_cleansed', 'latitude', 'longitude',\n",
      "       'property_type', 'room_type', 'accommodates', 'bathrooms', 'bedrooms',\n",
      "       'beds', 'price', 'minimum_nights', 'maximum_nights', 'has_availability',\n",
      "       'availability_30', 'availability_60', 'availability_90',\n",
      "       'availability_365', 'number_of_reviews', 'first_review', 'last_review',\n",
      "       'review_scores_rating', 'review_scores_accuracy',\n",
      "       'review_scores_cleanliness', 'review_scores_checkin',\n",
      "       'review_scores_communication', 'review_scores_location',\n",
      "       'review_scores_value', 'instant_bookable',\n",
      "       'calculated_host_listings_count', 'reviews_per_month', 'amenities',\n",
      "       'scrape_batch', 'batch_YRMO', 'days_since_rev', 'days_since_first_rev',\n",
      "       'host_length', 'host_is_superhost_dum', 'room_type_dum',\n",
      "       'instant_bookable_dum', 'avg_lat', 'avg_lon', 'first_appearance',\n",
      "       'last_app', 'cum_sum', 'List_month_byhost_month',\n",
      "       'List_month_host_overall', 'List_month_id_overall', 'hotel_dum',\n",
      "       'List_month_byneigh', 'station_dist', 'station_dist2', 'park_dist',\n",
      "       'park_dist2'],\n",
      "      dtype='object')\n"
     ]
    }
   ],
   "source": [
    "def get_dists():\n",
    "    # get airbnb data\n",
    "    df = getairbnbdata()\n",
    "    # merge with distance data\n",
    "    clean_data_path = '../data/cleaned_data_updated.csv'\n",
    "    distances = pd.read_csv(clean_data_path).iloc[:, -4:]\n",
    "    df = pd.concat([df, distances])\n",
    "    return df\n",
    "airbnb_updated = get_dists()\n",
    "print(airbnb_updated.columns)"
   ]
  }
 ],
 "metadata": {
  "kernelspec": {
   "display_name": "Python 3 (ipykernel)",
   "language": "python",
   "name": "python3"
  },
  "language_info": {
   "codemirror_mode": {
    "name": "ipython",
    "version": 3
   },
   "file_extension": ".py",
   "mimetype": "text/x-python",
   "name": "python",
   "nbconvert_exporter": "python",
   "pygments_lexer": "ipython3",
   "version": "3.8.10"
  }
 },
 "nbformat": 4,
 "nbformat_minor": 5
}
