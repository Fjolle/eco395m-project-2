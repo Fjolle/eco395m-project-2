{
 "cells": [
  {
   "cell_type": "code",
   "execution_count": 176,
   "id": "771a737c-bee9-4f91-9abd-5dec5cc45687",
   "metadata": {},
   "outputs": [],
   "source": [
    "# Libraries\n",
    "import pandas as pd\n",
    "from readtable import *\n",
    "import numpy as np\n",
    "from sklearn import ensemble\n",
    "from sklearn.model_selection import train_test_split\n",
    "from sklearn.preprocessing import OneHotEncoder\n",
    "from sklearn.compose import make_column_transformer\n",
    "from sklearn.metrics import mean_squared_error"
   ]
  },
  {
   "cell_type": "code",
   "execution_count": 177,
   "id": "14f389e8-e509-437c-a6f6-4ba2ca0944b1",
   "metadata": {},
   "outputs": [],
   "source": [
    "# Data\n",
    "airbnb = get_dists()"
   ]
  },
  {
   "cell_type": "code",
   "execution_count": 178,
   "id": "377ed7d2-ef85-474e-8f16-2e1615d0fea4",
   "metadata": {},
   "outputs": [],
   "source": [
    "airbnb['host_since'] = (pd.to_datetime(airbnb['last_scraped']) - pd.to_datetime(airbnb['host_since'])) / np.timedelta64(1, 'D')\n",
    "# columns we don't need for ML model\n",
    "drop = ['id', 'month', 'last_scraped', 'host_id', 'host_name', 'neighbourhood',\n",
    "       'latitude', 'longitude',\n",
    "       'first_review', 'last_review',\n",
    "       'scrape_batch', 'batch_YRMO',\n",
    "       'instant_bookable',\n",
    "       'host_location',\n",
    "       'host_is_superhost',\n",
    "       'cum_sum',\n",
    "       'has_availability',\n",
    "       'amenities',\n",
    "       'neighbourhood_cleansed',\n",
    "       'neighbourhood_group_cleansed',\n",
    "       'property_type']\n",
    "data = airbnb.drop(drop, axis = 1)\n",
    "data.dtypes\n",
    "dict_ints = {\"List_month\": float,\n",
    "            'host_is_superhost_dum': float,\n",
    "             'room_type_dum':float,\n",
    "             'instant_bookable_dum':float,\n",
    "            'List_month_byhost_month': float,\n",
    "             'List_month_host_overall': float,\n",
    "             'List_month_id_overall': float,\n",
    "             'hotel_dum':float,\n",
    "             'List_month_byneigh':float,\n",
    "            'bathrooms': float}\n",
    "data = data.astype(dict_ints)\n",
    "X = data.dropna(subset = ['price']).loc[:, data.columns != 'price']\n",
    "y = data['price'].dropna()\n",
    "\n"
   ]
  },
  {
   "cell_type": "code",
   "execution_count": 179,
   "id": "4a8ad24f-b39f-48a5-8b9d-0e1cd674b883",
   "metadata": {},
   "outputs": [],
   "source": [
    "# One hot encoding\n",
    "# which variables are categorical?\n",
    "dict_cats = {\"host_response_time\": \"category\",\n",
    "             \"room_type\": \"category\"}\n",
    "\n",
    "# drop amenities for now\n",
    "# Need to make host_response rate as int\n",
    "X['host_response_rate'] = X['host_response_rate'].str[:-1].astype(float)\n"
   ]
  },
  {
   "cell_type": "code",
   "execution_count": 180,
   "id": "e06b3a84-dd28-4e00-ae1e-23b17189f6c8",
   "metadata": {},
   "outputs": [],
   "source": [
    "X = X.astype(dict_cats)\n",
    "encoder = OneHotEncoder(handle_unknown = \"ignore\")\n",
    "encoder_hrt = pd.DataFrame(encoder.fit_transform(X[[\"host_response_time\"]]).toarray())\n",
    "encoder_hrt.columns = list(X[\"host_response_time\"].unique())\n",
    "\n",
    "# Merge with original dataset\n",
    "X = X.join(encoder_hrt)\n",
    "\n",
    "# Do same for room type\n",
    "encoder_rt = pd.DataFrame(encoder.fit_transform(X[[\"room_type\"]]).toarray())\n",
    "encoder_rt.columns = list(X[\"room_type\"].unique())\n",
    "\n",
    "X = X.join(encoder_rt)\n",
    "\n",
    "## Drop original variables\n",
    "original = list(dict_cats.keys())\n",
    "X = X.drop(original, axis = 1)"
   ]
  },
  {
   "cell_type": "code",
   "execution_count": 181,
   "id": "96918934-d888-41e9-98ae-b1bca9a40661",
   "metadata": {},
   "outputs": [
    {
     "name": "stdout",
     "output_type": "stream",
     "text": [
      "List_month                        float64\n",
      "host_since                        float64\n",
      "host_response_rate                float64\n",
      "host_listings_count               float64\n",
      "host_total_listings_count         float64\n",
      "accommodates                      float64\n",
      "bathrooms                         float64\n",
      "bedrooms                          float64\n",
      "beds                              float64\n",
      "minimum_nights                    float64\n",
      "maximum_nights                    float64\n",
      "availability_30                   float64\n",
      "availability_60                   float64\n",
      "availability_90                   float64\n",
      "availability_365                  float64\n",
      "number_of_reviews                 float64\n",
      "review_scores_rating              float64\n",
      "review_scores_accuracy            float64\n",
      "review_scores_cleanliness         float64\n",
      "review_scores_checkin             float64\n",
      "review_scores_communication       float64\n",
      "review_scores_location            float64\n",
      "review_scores_value               float64\n",
      "calculated_host_listings_count    float64\n",
      "reviews_per_month                 float64\n",
      "days_since_rev                    float64\n",
      "days_since_first_rev              float64\n",
      "host_length                       float64\n",
      "host_is_superhost_dum             float64\n",
      "room_type_dum                     float64\n",
      "instant_bookable_dum              float64\n",
      "avg_lat                           float64\n",
      "avg_lon                           float64\n",
      "first_appearance                  float64\n",
      "last_app                          float64\n",
      "List_month_byhost_month           float64\n",
      "List_month_host_overall           float64\n",
      "List_month_id_overall             float64\n",
      "hotel_dum                         float64\n",
      "List_month_byneigh                float64\n",
      "station_dist                      float64\n",
      "station_dist2                     float64\n",
      "park_dist                         float64\n",
      "park_dist2                        float64\n",
      "within a day                      float64\n",
      "within an hour                    float64\n",
      "a few days or more                float64\n",
      "within a few hours                float64\n",
      "nan                               float64\n",
      "Entire home/apt                   float64\n",
      "Private room                      float64\n",
      "Hotel room                        float64\n",
      "Shared room                       float64\n",
      "dtype: object\n"
     ]
    },
    {
     "data": {
      "text/plain": [
       "GradientBoostingRegressor(learning_rate=0.01, max_depth=5, min_samples_split=5,\n",
       "                          n_estimators=500)"
      ]
     },
     "execution_count": 181,
     "metadata": {},
     "output_type": "execute_result"
    }
   ],
   "source": [
    "## GB Model\n",
    "X.columns = X.columns.astype(str)\n",
    "print(X.dtypes)\n",
    "X = X.fillna(0)\n",
    "\n",
    "# Split into train and test\n",
    "X_train, X_test, y_train, y_test = train_test_split(X, y, test_size = 0.2)\n",
    "params = {\n",
    "    \"n_estimators\": 100,\n",
    "    \"max_depth\": 5,\n",
    "    \"min_samples_split\": 5,\n",
    "    \"learning_rate\": 0.01,\n",
    "    \"loss\": \"squared_error\"}\n",
    "reg = ensemble.GradientBoostingRegressor(**params)\n",
    "reg.fit(X_train, y_train)\n"
   ]
  },
  {
   "cell_type": "code",
   "execution_count": 68,
   "id": "3ffcfcde-3734-4e9b-8db2-696efa9bc9a8",
   "metadata": {},
   "outputs": [
    {
     "data": {
      "text/plain": [
       "Index([                    'List_month',                     'host_since',\n",
       "                   'host_response_time',             'host_response_rate',\n",
       "                  'host_listings_count',      'host_total_listings_count',\n",
       "               'neighbourhood_cleansed',   'neighbourhood_group_cleansed',\n",
       "                        'property_type',                      'room_type',\n",
       "                         'accommodates',                      'bathrooms',\n",
       "                             'bedrooms',                           'beds',\n",
       "                       'minimum_nights',                 'maximum_nights',\n",
       "                      'availability_30',                'availability_60',\n",
       "                      'availability_90',               'availability_365',\n",
       "                    'number_of_reviews',           'review_scores_rating',\n",
       "               'review_scores_accuracy',      'review_scores_cleanliness',\n",
       "                'review_scores_checkin',    'review_scores_communication',\n",
       "               'review_scores_location',            'review_scores_value',\n",
       "       'calculated_host_listings_count',              'reviews_per_month',\n",
       "                            'amenities',                 'days_since_rev',\n",
       "                 'days_since_first_rev',                    'host_length',\n",
       "                'host_is_superhost_dum',                  'room_type_dum',\n",
       "                 'instant_bookable_dum',                        'avg_lat',\n",
       "                              'avg_lon',               'first_appearance',\n",
       "                             'last_app',        'List_month_byhost_month',\n",
       "              'List_month_host_overall',          'List_month_id_overall',\n",
       "                            'hotel_dum',             'List_month_byneigh',\n",
       "                         'station_dist',                  'station_dist2',\n",
       "                            'park_dist',                     'park_dist2',\n",
       "                         'within a day',                 'within an hour',\n",
       "                   'a few days or more',             'within a few hours',\n",
       "                                    nan,                'Entire home/apt',\n",
       "                         'Private room',                     'Hotel room',\n",
       "                          'Shared room'],\n",
       "      dtype='object')"
      ]
     },
     "execution_count": 68,
     "metadata": {},
     "output_type": "execute_result"
    }
   ],
   "source": [
    "rmse = sqrt(mean_squared_error(y_test, reg.predict(X_test))) # manually extract rmse from mse\n",
    "print(rmse) #out-of-sample rmse"
   ]
  },
  {
   "cell_type": "code",
   "execution_count": null,
   "id": "18daa45a-6534-437b-bba7-8b9666094560",
   "metadata": {},
   "outputs": [],
   "source": []
  },
  {
   "cell_type": "code",
   "execution_count": 5,
   "id": "878ed220-5614-488d-be0f-da7480905bf8",
   "metadata": {},
   "outputs": [
    {
     "name": "stdout",
     "output_type": "stream",
     "text": [
      "             id  station_dist  station_dist2  park_dist  park_dist2\n",
      "0          3831      0.249637       0.301503   0.676109    1.021501\n",
      "1          5136      0.210077       0.306295   0.638516    1.018294\n",
      "2          5178      0.127743       0.168968   0.230626    0.296666\n",
      "3          5803      0.186458       0.227987   0.617910    0.963935\n",
      "4          7064      0.287763       0.350759   0.556234    0.814657\n",
      "...         ...           ...            ...        ...         ...\n",
      "50416  53662330      5.655837       7.857410   0.797285    1.293766\n",
      "50417  53662542      5.604813       7.698872   0.722559    1.135228\n",
      "50418  53662772      0.074870       0.103195   0.774796    0.948325\n",
      "50419  53663081      0.120837       0.121759   0.714898    0.844179\n",
      "50420  53665099      0.177626       0.262641   0.347464    0.473793\n",
      "\n",
      "[50421 rows x 5 columns]\n"
     ]
    }
   ],
   "source": []
  }
 ],
 "metadata": {
  "kernelspec": {
   "display_name": "Python 3 (ipykernel)",
   "language": "python",
   "name": "python3"
  },
  "language_info": {
   "codemirror_mode": {
    "name": "ipython",
    "version": 3
   },
   "file_extension": ".py",
   "mimetype": "text/x-python",
   "name": "python",
   "nbconvert_exporter": "python",
   "pygments_lexer": "ipython3",
   "version": "3.8.10"
  }
 },
 "nbformat": 4,
 "nbformat_minor": 5
}
