{
 "cells": [
  {
   "cell_type": "code",
   "execution_count": 1,
   "id": "771a737c-bee9-4f91-9abd-5dec5cc45687",
   "metadata": {},
   "outputs": [],
   "source": [
    "# Libraries\n",
    "import pandas as pd\n",
    "from readtable import *\n",
    "import numpy as np\n",
    "from sklearn import ensemble\n",
    "from sklearn.model_selection import train_test_split\n",
    "from sklearn.preprocessing import OneHotEncoder\n",
    "from sklearn.compose import make_column_transformer\n",
    "from sklearn.metrics import mean_squared_error\n",
    "from math import sqrt\n",
    "import matplotlib.pyplot as plt"
   ]
  },
  {
   "cell_type": "code",
   "execution_count": 2,
   "id": "14f389e8-e509-437c-a6f6-4ba2ca0944b1",
   "metadata": {},
   "outputs": [],
   "source": [
    "# Data\n",
    "airbnb = get_dists()"
   ]
  },
  {
   "cell_type": "code",
   "execution_count": 3,
   "id": "377ed7d2-ef85-474e-8f16-2e1615d0fea4",
   "metadata": {},
   "outputs": [],
   "source": [
    "airbnb['host_since'] = (pd.to_datetime(airbnb['last_scraped']) - pd.to_datetime(airbnb['host_since'])) / np.timedelta64(1, 'D')\n",
    "# columns we don't need for ML model\n",
    "drop = ['id', 'month', 'last_scraped', 'host_id', 'host_name', 'neighbourhood',\n",
    "       'latitude', 'longitude',\n",
    "       'first_review', 'last_review',\n",
    "       'scrape_batch', 'batch_YRMO',\n",
    "       'instant_bookable',\n",
    "       'host_location',\n",
    "       'host_is_superhost',\n",
    "       'cum_sum',\n",
    "       'has_availability',\n",
    "       'amenities',\n",
    "       'neighbourhood_cleansed',\n",
    "       'neighbourhood_group_cleansed',\n",
    "       'avg_lat',\n",
    "       'avg_lon',\n",
    "       'last_app',\n",
    "       'List_month_byhost_month',\n",
    "    'List_month_host_overall',\n",
    "    'List_month_id_overall',\n",
    "       'List_month_byneigh',\n",
    "       'property_type']\n",
    "data = airbnb.drop(drop, axis = 1)\n",
    "data.dtypes\n",
    "dict_ints = {\"List_month\": float,\n",
    "            'host_is_superhost_dum': float,\n",
    "             'room_type_dum':float,\n",
    "             'instant_bookable_dum':float,\n",
    "             'hotel_dum':float,\n",
    "            'bathrooms': float}\n",
    "data = data.astype(dict_ints)\n",
    "X = data.dropna(subset = ['price']).loc[:, data.columns != 'price']\n",
    "y = data['price'].dropna()\n",
    "\n"
   ]
  },
  {
   "cell_type": "code",
   "execution_count": 4,
   "id": "4a8ad24f-b39f-48a5-8b9d-0e1cd674b883",
   "metadata": {},
   "outputs": [],
   "source": [
    "# One hot encoding\n",
    "# which variables are categorical?\n",
    "dict_cats = {\"host_response_time\": \"category\",\n",
    "             \"room_type\": \"category\"}\n",
    "\n",
    "# drop amenities for now\n",
    "# Need to make host_response rate as int\n",
    "X['host_response_rate'] = X['host_response_rate'].str[:-1].astype(float)\n"
   ]
  },
  {
   "cell_type": "code",
   "execution_count": 5,
   "id": "e06b3a84-dd28-4e00-ae1e-23b17189f6c8",
   "metadata": {},
   "outputs": [],
   "source": [
    "X = X.astype(dict_cats)\n",
    "encoder = OneHotEncoder(handle_unknown = \"ignore\")\n",
    "encoder_hrt = pd.DataFrame(encoder.fit_transform(X[[\"host_response_time\"]]).toarray())\n",
    "encoder_hrt.columns = list(X[\"host_response_time\"].unique())\n",
    "\n",
    "# Merge with original dataset\n",
    "X = X.join(encoder_hrt)\n",
    "\n",
    "# Do same for room type\n",
    "encoder_rt = pd.DataFrame(encoder.fit_transform(X[[\"room_type\"]]).toarray())\n",
    "encoder_rt.columns = list(X[\"room_type\"].unique())\n",
    "\n",
    "X = X.join(encoder_rt)\n",
    "\n",
    "## Drop original variables\n",
    "original = list(dict_cats.keys())\n",
    "X = X.drop(original, axis = 1)\n"
   ]
  },
  {
   "cell_type": "code",
   "execution_count": 6,
   "id": "96918934-d888-41e9-98ae-b1bca9a40661",
   "metadata": {},
   "outputs": [
    {
     "name": "stdout",
     "output_type": "stream",
     "text": [
      "host_since                        float64\n",
      "host_response_rate                float64\n",
      "host_listings_count               float64\n",
      "host_total_listings_count         float64\n",
      "accommodates                      float64\n",
      "bedrooms                          float64\n",
      "beds                              float64\n",
      "minimum_nights                    float64\n",
      "maximum_nights                    float64\n",
      "availability_30                   float64\n",
      "availability_60                   float64\n",
      "availability_90                   float64\n",
      "availability_365                  float64\n",
      "number_of_reviews                 float64\n",
      "review_scores_rating              float64\n",
      "review_scores_cleanliness         float64\n",
      "review_scores_checkin             float64\n",
      "review_scores_communication       float64\n",
      "review_scores_location            float64\n",
      "review_scores_value               float64\n",
      "calculated_host_listings_count    float64\n",
      "reviews_per_month                 float64\n",
      "days_since_rev                    float64\n",
      "days_since_first_rev              float64\n",
      "host_length                       float64\n",
      "host_is_superhost_dum             float64\n",
      "room_type_dum                     float64\n",
      "instant_bookable_dum              float64\n",
      "station_dist                      float64\n",
      "station_dist2                     float64\n",
      "park_dist                         float64\n",
      "park_dist2                        float64\n",
      "Shared room                       float64\n",
      "dtype: object\n"
     ]
    },
    {
     "data": {
      "text/plain": [
       "GradientBoostingRegressor(learning_rate=0.01, max_depth=5, min_samples_split=5,\n",
       "                          n_estimators=500)"
      ]
     },
     "execution_count": 6,
     "metadata": {},
     "output_type": "execute_result"
    }
   ],
   "source": [
    "## GB Model\n",
    "X.columns = X.columns.astype(str)\n",
    "drop2 = [\"nan\",\n",
    "       \"first_appearance\",\n",
    "       \"review_scores_accuracy\",\n",
    "       \"within a few hours\",\n",
    "       \"Hotel room\",\n",
    "       \"a few days or more\",\n",
    "       \"Private room\",\n",
    "       \"within an hour\",\n",
    "       \"Entire home/apt\",\n",
    "       \"within a day\",\n",
    "       \"hotel_dum\",\n",
    "       \"bathrooms\",\n",
    "       \"List_month\"]\n",
    "X = X.drop(drop2, axis = 1) # drop variables that aren't important\n",
    "print(X.dtypes)\n",
    "X = X.fillna(0)\n",
    "\n",
    "# Split into train and test\n",
    "X_train, X_test, y_train, y_test = train_test_split(X, y, test_size = 0.2)\n",
    "params = {\n",
    "    \"n_estimators\": 500,\n",
    "    \"max_depth\": 5,\n",
    "    \"min_samples_split\": 5,\n",
    "    \"learning_rate\": 0.01,\n",
    "    \"loss\": \"squared_error\"}\n",
    "reg = ensemble.GradientBoostingRegressor(**params)\n",
    "reg.fit(X_train, y_train)\n"
   ]
  },
  {
   "cell_type": "code",
   "execution_count": 7,
   "id": "3ffcfcde-3734-4e9b-8db2-696efa9bc9a8",
   "metadata": {},
   "outputs": [
    {
     "name": "stdout",
     "output_type": "stream",
     "text": [
      "155.5960098719481\n"
     ]
    }
   ],
   "source": [
    "rmse = sqrt(mean_squared_error(y_test, reg.predict(X_test))) # manually extract rmse from mse\n",
    "print(rmse) #out-of-sample rmse"
   ]
  },
  {
   "cell_type": "code",
   "execution_count": 8,
   "id": "18daa45a-6534-437b-bba7-8b9666094560",
   "metadata": {},
   "outputs": [
    {
     "data": {
      "text/plain": [
       "Text(0.5, 1.0, 'Feature Importance')"
      ]
     },
     "execution_count": 8,
     "metadata": {},
     "output_type": "execute_result"
    },
    {
     "data": {
      "image/png": "[encoded data removed]",
      "text/plain": [
       "<Figure size 864x432 with 1 Axes>"
      ]
     },
     "metadata": {
      "needs_background": "light"
     },
     "output_type": "display_data"
    }
   ],
   "source": [
    "feature_importance = reg.feature_importances_\n",
    "sorted_idx = np.argsort(feature_importance)\n",
    "fig = plt.figure(figsize=(12, 6))\n",
    "plt.barh(range(len(sorted_idx)), feature_importance[sorted_idx], align='center')\n",
    "plt.yticks(range(len(sorted_idx)), np.array(X_test.columns)[sorted_idx])\n",
    "plt.title('Feature Importance')"
   ]
  },
  {
   "cell_type": "code",
   "execution_count": null,
   "id": "878ed220-5614-488d-be0f-da7480905bf8",
   "metadata": {},
   "outputs": [],
   "source": []
  }
 ],
 "metadata": {
  "kernelspec": {
   "display_name": "Python 3 (ipykernel)",
   "language": "python",
   "name": "python3"
  },
  "language_info": {
   "codemirror_mode": {
    "name": "ipython",
    "version": 3
   },
   "file_extension": ".py",
   "mimetype": "text/x-python",
   "name": "python",
   "nbconvert_exporter": "python",
   "pygments_lexer": "ipython3",
   "version": "3.8.10"
  }
 },
 "nbformat": 4,
 "nbformat_minor": 5
}
