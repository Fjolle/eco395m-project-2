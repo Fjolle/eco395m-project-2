{
 "cells": [
  {
   "cell_type": "code",
   "execution_count": 60,
   "id": "771a737c-bee9-4f91-9abd-5dec5cc45687",
   "metadata": {},
   "outputs": [],
   "source": [
    "# Libraries\n",
    "import pandas as pd\n",
    "from readtable import *\n",
    "import numpy as np"
   ]
  },
  {
   "cell_type": "code",
   "execution_count": 63,
   "id": "14f389e8-e509-437c-a6f6-4ba2ca0944b1",
   "metadata": {},
   "outputs": [],
   "source": [
    "# Data\n",
    "airbnb = get_dists()"
   ]
  },
  {
   "cell_type": "code",
   "execution_count": 83,
   "id": "377ed7d2-ef85-474e-8f16-2e1615d0fea4",
   "metadata": {},
   "outputs": [
    {
     "name": "stdout",
     "output_type": "stream",
     "text": [
      "112998\n",
      "112998\n"
     ]
    }
   ],
   "source": [
    "airbnb['host_since'] = (pd.to_datetime(airbnb['last_scraped']) - pd.to_datetime(airbnb['host_since'])) / np.timedelta64(1, 'D')\n",
    "# columns we don't need for ML model\n",
    "drop = ['id', 'month', 'last_scraped', 'host_id', 'host_name', 'neighbourhood',\n",
    "       'latitude', 'longitude',\n",
    "       'first_review', 'last_review',\n",
    "       'scrape_batch', 'batch_YRMO',\n",
    "       'instant_bookable',\n",
    "       'host_location']\n",
    "data = airbnb.drop(drop, axis = 1)\n",
    "data.dtypes\n",
    "dict_ints = {\"List_month\": float,\n",
    "            'host_is_superhost_dum': float,\n",
    "             'room_type_dum':float,\n",
    "             'instant_bookable_dum':float,\n",
    "            'List_month_byhost_month': float,\n",
    "             'List_month_host_overall': float,\n",
    "             'List_month_id_overall': float,\n",
    "             'hotel_dum':float,\n",
    "             'List_month_byneigh':float}\n",
    "data = data.astype(dict_ints)\n",
    "X = data.dropna(subset = ['price']).loc[:, data.columns != 'price']\n",
    "y = data['price'].dropna()"
   ]
  },
  {
   "cell_type": "code",
   "execution_count": null,
   "id": "96918934-d888-41e9-98ae-b1bca9a40661",
   "metadata": {},
   "outputs": [],
   "source": [
    "# For gradient boosting, need all columns to be of same type\n",
    "# Convert float to int\n"
   ]
  },
  {
   "cell_type": "code",
   "execution_count": 59,
   "id": "18daa45a-6534-437b-bba7-8b9666094560",
   "metadata": {},
   "outputs": [],
   "source": []
  },
  {
   "cell_type": "code",
   "execution_count": 57,
   "id": "878ed220-5614-488d-be0f-da7480905bf8",
   "metadata": {},
   "outputs": [
    {
     "name": "stdout",
     "output_type": "stream",
     "text": [
      "             id  station_dist  station_dist2  park_dist  park_dist2\n",
      "0          3831      0.249637       0.301503   0.676109    1.021501\n",
      "1          5136      0.210077       0.306295   0.638516    1.018294\n",
      "2          5178      0.127743       0.168968   0.230626    0.296666\n",
      "3          5803      0.186458       0.227987   0.617910    0.963935\n",
      "4          7064      0.287763       0.350759   0.556234    0.814657\n",
      "...         ...           ...            ...        ...         ...\n",
      "37661  53662330      5.655837       7.857410   0.797285    1.293766\n",
      "37662  53662542      5.604813       7.698872   0.722559    1.135228\n",
      "37663  53662772      0.074870       0.103195   0.774796    0.948325\n",
      "37664  53663081      0.120837       0.121759   0.714898    0.844179\n",
      "37665  53665099      0.177626       0.262641   0.347464    0.473793\n",
      "\n",
      "[37666 rows x 5 columns]\n"
     ]
    }
   ],
   "source": [
    "clean_data_path = '../data/cleaned_data_updated.csv'\n",
    "select = ['id', 'station_dist', 'station_dist2', 'park_dist',\n",
    "       'park_dist2']\n",
    "distances = pd.read_csv(clean_data_path)[select]\n",
    "print(distances)"
   ]
  }
 ],
 "metadata": {
  "kernelspec": {
   "display_name": "Python 3 (ipykernel)",
   "language": "python",
   "name": "python3"
  },
  "language_info": {
   "codemirror_mode": {
    "name": "ipython",
    "version": 3
   },
   "file_extension": ".py",
   "mimetype": "text/x-python",
   "name": "python",
   "nbconvert_exporter": "python",
   "pygments_lexer": "ipython3",
   "version": "3.8.10"
  }
 },
 "nbformat": 4,
 "nbformat_minor": 5
}
