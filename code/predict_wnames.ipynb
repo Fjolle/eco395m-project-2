{
 "cells": [
  {
   "cell_type": "code",
   "execution_count": 15,
   "id": "04dcc672-9629-43d3-aa04-b4840ee73752",
   "metadata": {},
   "outputs": [
    {
     "name": "stdout",
     "output_type": "stream",
     "text": [
      "Checking whether there is an H2O instance running at http://localhost:54321 . connected.\n"
     ]
    },
    {
     "data": {
      "text/html": [
       "<div style=\"overflow:auto\"><table style=\"width:50%\"><tr><td>H2O_cluster_uptime:</td>\n",
       "<td>12 mins 09 secs</td></tr>\n",
       "<tr><td>H2O_cluster_timezone:</td>\n",
       "<td>America/Chicago</td></tr>\n",
       "<tr><td>H2O_data_parsing_timezone:</td>\n",
       "<td>UTC</td></tr>\n",
       "<tr><td>H2O_cluster_version:</td>\n",
       "<td>3.36.1.1</td></tr>\n",
       "<tr><td>H2O_cluster_version_age:</td>\n",
       "<td>26 days </td></tr>\n",
       "<tr><td>H2O_cluster_name:</td>\n",
       "<td>H2O_from_python_csridlen_2phdue</td></tr>\n",
       "<tr><td>H2O_cluster_total_nodes:</td>\n",
       "<td>1</td></tr>\n",
       "<tr><td>H2O_cluster_free_memory:</td>\n",
       "<td>1.765 Gb</td></tr>\n",
       "<tr><td>H2O_cluster_total_cores:</td>\n",
       "<td>8</td></tr>\n",
       "<tr><td>H2O_cluster_allowed_cores:</td>\n",
       "<td>8</td></tr>\n",
       "<tr><td>H2O_cluster_status:</td>\n",
       "<td>locked, healthy</td></tr>\n",
       "<tr><td>H2O_connection_url:</td>\n",
       "<td>http://localhost:54321</td></tr>\n",
       "<tr><td>H2O_connection_proxy:</td>\n",
       "<td>{\"http\": null, \"https\": null}</td></tr>\n",
       "<tr><td>H2O_internal_security:</td>\n",
       "<td>False</td></tr>\n",
       "<tr><td>Python_version:</td>\n",
       "<td>3.8.10 final</td></tr></table></div>"
      ],
      "text/plain": [
       "--------------------------  -------------------------------\n",
       "H2O_cluster_uptime:         12 mins 09 secs\n",
       "H2O_cluster_timezone:       America/Chicago\n",
       "H2O_data_parsing_timezone:  UTC\n",
       "H2O_cluster_version:        3.36.1.1\n",
       "H2O_cluster_version_age:    26 days\n",
       "H2O_cluster_name:           H2O_from_python_csridlen_2phdue\n",
       "H2O_cluster_total_nodes:    1\n",
       "H2O_cluster_free_memory:    1.765 Gb\n",
       "H2O_cluster_total_cores:    8\n",
       "H2O_cluster_allowed_cores:  8\n",
       "H2O_cluster_status:         locked, healthy\n",
       "H2O_connection_url:         http://localhost:54321\n",
       "H2O_connection_proxy:       {\"http\": null, \"https\": null}\n",
       "H2O_internal_security:      False\n",
       "Python_version:             3.8.10 final\n",
       "--------------------------  -------------------------------"
      ]
     },
     "metadata": {},
     "output_type": "display_data"
    }
   ],
   "source": [
    "from word2vec_functions import *\n",
    "import h2o\n",
    "h2o.init()\n",
    "import numpy as np\n",
    "import pandas as pd\n",
    "from h2o.estimators.word2vec import H2OWord2vecEstimator\n",
    "from h2o.estimators.gbm import H2OGradientBoostingEstimator\n",
    "from datetime import datetime"
   ]
  },
  {
   "cell_type": "code",
   "execution_count": 19,
   "id": "dac8c2e6-af7a-45c0-81d2-4a6af0b6c367",
   "metadata": {},
   "outputs": [
    {
     "name": "stdout",
     "output_type": "stream",
     "text": [
      "Parse progress: |████████████████████████████████████████████████████████████████| (done) 100%\n"
     ]
    },
    {
     "ename": "NameError",
     "evalue": "name 'word_2vec' is not defined",
     "output_type": "error",
     "traceback": [
      "\u001b[0;31m---------------------------------------------------------------------------\u001b[0m",
      "\u001b[0;31mNameError\u001b[0m                                 Traceback (most recent call last)",
      "Input \u001b[0;32mIn [19]\u001b[0m, in \u001b[0;36m<cell line: 11>\u001b[0;34m()\u001b[0m\n\u001b[1;32m      3\u001b[0m airbnb_names \u001b[38;5;241m=\u001b[39m h2o\u001b[38;5;241m.\u001b[39mimport_file(airbnb_path, destination_frame \u001b[38;5;241m=\u001b[39m \u001b[38;5;124m\"\u001b[39m\u001b[38;5;124mairbnbnames\u001b[39m\u001b[38;5;124m\"\u001b[39m,\n\u001b[1;32m      4\u001b[0m                              header \u001b[38;5;241m=\u001b[39m \u001b[38;5;241m1\u001b[39m)\n\u001b[1;32m      5\u001b[0m \u001b[38;5;66;03m# Create word vectors\u001b[39;00m\n\u001b[1;32m      6\u001b[0m \u001b[38;5;66;03m#words = tokenize(airbnb_names[\"name\"])\u001b[39;00m\n\u001b[1;32m      7\u001b[0m \u001b[38;5;66;03m#w2v_model = H2OWord2vecEstimator(sent_sample_rate = 0.0, epochs = 10)\u001b[39;00m\n\u001b[1;32m      8\u001b[0m \u001b[38;5;66;03m#w2v_model.train(training_frame = words)\u001b[39;00m\n\u001b[1;32m      9\u001b[0m \u001b[38;5;66;03m#airbnb_names_vecs = w2v_model.transform(words, aggregate_method = \"AVERAGE\")\u001b[39;00m\n\u001b[0;32m---> 11\u001b[0m airbnb_names_vecs \u001b[38;5;241m=\u001b[39m \u001b[43mword_2vec\u001b[49m(tokenize(airbnb_names[\u001b[38;5;124m\"\u001b[39m\u001b[38;5;124mname\u001b[39m\u001b[38;5;124m\"\u001b[39m]))\n\u001b[1;32m     13\u001b[0m \u001b[38;5;28mprint\u001b[39m(airbnb_names_vecs\u001b[38;5;241m.\u001b[39mdim) \u001b[38;5;66;03m# 36923 x 100\u001b[39;00m\n\u001b[1;32m     14\u001b[0m \u001b[38;5;28mprint\u001b[39m(airbnb_names\u001b[38;5;241m.\u001b[39mdim)\n",
      "\u001b[0;31mNameError\u001b[0m: name 'word_2vec' is not defined"
     ]
    }
   ],
   "source": [
    "# Initializing word2vec model\n",
    "airbnb_path = \"../data/airbnb_listings_2021.csv\"\n",
    "airbnb_names = h2o.import_file(airbnb_path, destination_frame = \"airbnbnames\",\n",
    "                             header = 1)\n",
    "# Create word vectors\n",
    "words = tokenize(airbnb_names[\"name\"])\n",
    "w2v_model = H2OWord2vecEstimator(sent_sample_rate = 0.0, epochs = 10)\n",
    "w2v_model.train(training_frame = words)\n",
    "airbnb_names_vecs = w2v_model.transform(words, aggregate_method = \"AVERAGE\")\n",
    "\n",
    "\n",
    "print(airbnb_names_vecs.dim) # 36923 x 100\n",
    "print(airbnb_names.dim) # 36923 x 18\n",
    "\n",
    "# Merge with original dataset to add as a feature\n"
   ]
  },
  {
   "cell_type": "code",
   "execution_count": 5,
   "id": "773032a8-ea82-442a-b457-db02d05e779d",
   "metadata": {},
   "outputs": [
    {
     "name": "stdout",
     "output_type": "stream",
     "text": [
      "[36923, 100]\n",
      "[36923, 18]\n"
     ]
    }
   ],
   "source": []
  }
 ],
 "metadata": {
  "kernelspec": {
   "display_name": "Python 3 (ipykernel)",
   "language": "python",
   "name": "python3"
  },
  "language_info": {
   "codemirror_mode": {
    "name": "ipython",
    "version": 3
   },
   "file_extension": ".py",
   "mimetype": "text/x-python",
   "name": "python",
   "nbconvert_exporter": "python",
   "pygments_lexer": "ipython3",
   "version": "3.8.10"
  }
 },
 "nbformat": 4,
 "nbformat_minor": 5
}
