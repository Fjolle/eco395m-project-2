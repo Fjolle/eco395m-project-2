{
 "cells": [
  {
   "cell_type": "code",
   "execution_count": 2,
   "id": "04dcc672-9629-43d3-aa04-b4840ee73752",
   "metadata": {},
   "outputs": [
    {
     "name": "stdout",
     "output_type": "stream",
     "text": [
      "Checking whether there is an H2O instance running at http://localhost:54321 ..... not found.\n",
      "Attempting to start a local H2O server...\n",
      "  Java Version: openjdk version \"11.0.15\" 2022-04-19; OpenJDK Runtime Environment (build 11.0.15+10-Ubuntu-0ubuntu0.20.04.1); OpenJDK 64-Bit Server VM (build 11.0.15+10-Ubuntu-0ubuntu0.20.04.1, mixed mode, sharing)\n",
      "  Starting server from /home/csridlen/.local/lib/python3.8/site-packages/h2o/backend/bin/h2o.jar\n",
      "  Ice root: /tmp/tmptu8sv_lw\n",
      "  JVM stdout: /tmp/tmptu8sv_lw/h2o_csridlen_started_from_python.out\n",
      "  JVM stderr: /tmp/tmptu8sv_lw/h2o_csridlen_started_from_python.err\n",
      "  Server is running at http://127.0.0.1:54321\n",
      "Connecting to H2O server at http://127.0.0.1:54321 ... successful.\n"
     ]
    },
    {
     "data": {
      "text/html": [
       "<div style=\"overflow:auto\"><table style=\"width:50%\"><tr><td>H2O_cluster_uptime:</td>\n",
       "<td>01 secs</td></tr>\n",
       "<tr><td>H2O_cluster_timezone:</td>\n",
       "<td>America/Chicago</td></tr>\n",
       "<tr><td>H2O_data_parsing_timezone:</td>\n",
       "<td>UTC</td></tr>\n",
       "<tr><td>H2O_cluster_version:</td>\n",
       "<td>3.36.1.1</td></tr>\n",
       "<tr><td>H2O_cluster_version_age:</td>\n",
       "<td>27 days </td></tr>\n",
       "<tr><td>H2O_cluster_name:</td>\n",
       "<td>H2O_from_python_csridlen_t2nowy</td></tr>\n",
       "<tr><td>H2O_cluster_total_nodes:</td>\n",
       "<td>1</td></tr>\n",
       "<tr><td>H2O_cluster_free_memory:</td>\n",
       "<td>1.910 Gb</td></tr>\n",
       "<tr><td>H2O_cluster_total_cores:</td>\n",
       "<td>8</td></tr>\n",
       "<tr><td>H2O_cluster_allowed_cores:</td>\n",
       "<td>8</td></tr>\n",
       "<tr><td>H2O_cluster_status:</td>\n",
       "<td>locked, healthy</td></tr>\n",
       "<tr><td>H2O_connection_url:</td>\n",
       "<td>http://127.0.0.1:54321</td></tr>\n",
       "<tr><td>H2O_connection_proxy:</td>\n",
       "<td>{\"http\": null, \"https\": null}</td></tr>\n",
       "<tr><td>H2O_internal_security:</td>\n",
       "<td>False</td></tr>\n",
       "<tr><td>Python_version:</td>\n",
       "<td>3.8.10 final</td></tr></table></div>"
      ],
      "text/plain": [
       "--------------------------  -------------------------------\n",
       "H2O_cluster_uptime:         01 secs\n",
       "H2O_cluster_timezone:       America/Chicago\n",
       "H2O_data_parsing_timezone:  UTC\n",
       "H2O_cluster_version:        3.36.1.1\n",
       "H2O_cluster_version_age:    27 days\n",
       "H2O_cluster_name:           H2O_from_python_csridlen_t2nowy\n",
       "H2O_cluster_total_nodes:    1\n",
       "H2O_cluster_free_memory:    1.910 Gb\n",
       "H2O_cluster_total_cores:    8\n",
       "H2O_cluster_allowed_cores:  8\n",
       "H2O_cluster_status:         locked, healthy\n",
       "H2O_connection_url:         http://127.0.0.1:54321\n",
       "H2O_connection_proxy:       {\"http\": null, \"https\": null}\n",
       "H2O_internal_security:      False\n",
       "Python_version:             3.8.10 final\n",
       "--------------------------  -------------------------------"
      ]
     },
     "metadata": {},
     "output_type": "display_data"
    }
   ],
   "source": [
    "from word2vec_functions import *\n",
    "import h2o\n",
    "h2o.init()\n",
    "import numpy as np\n",
    "import pandas as pd\n",
    "from h2o.estimators.word2vec import H2OWord2vecEstimator\n",
    "from h2o.estimators.gbm import H2OGradientBoostingEstimator\n",
    "from datetime import datetime"
   ]
  },
  {
   "cell_type": "code",
   "execution_count": null,
   "id": "dac8c2e6-af7a-45c0-81d2-4a6af0b6c367",
   "metadata": {},
   "outputs": [
    {
     "name": "stdout",
     "output_type": "stream",
     "text": [
      "Parse progress: |████████████████████████████████████████████████████████████████| (done) 100%\n",
      "word2vec Model Build progress: |"
     ]
    }
   ],
   "source": [
    "# Initializing word2vec model\n",
    "airbnb_path = \"../data/newnh_airbnb_2021.csv\"\n",
    "airbnb_names = h2o.import_file(airbnb_path, destination_frame = \"airbnbnames\",\n",
    "                             header = 1)\n",
    "# Create word vectors\n",
    "words = tokenize(airbnb_names[\"name\"])\n",
    "w2v_model = H2OWord2vecEstimator(sent_sample_rate = 0.0, epochs = 10)\n",
    "w2v_model.train(training_frame = words)\n",
    "airbnb_names_vecs = w2v_model.transform(words, aggregate_method = \"AVERAGE\")\n",
    "valid_airbnb_names = ~ airbnb_names_vecs[\"C1\"].isna()\n",
    "data = airbnb_names[valid_airbnb_names,:].cbind(airbnb_names_vecs[valid_airbnb_names,:])\n",
    "data_split = data.split_frame(ratios=[0.8])"
   ]
  },
  {
   "cell_type": "code",
   "execution_count": null,
   "id": "773032a8-ea82-442a-b457-db02d05e779d",
   "metadata": {},
   "outputs": [],
   "source": [
    "gbm_model = H2OGradientBoostingEstimator()\n",
    "gbm_model.train(x = airbnb_names_vecs.names,\n",
    "                y= \"price\", \n",
    "                training_frame = data_split[0], \n",
    "                validation_frame = data_split[1])\n",
    "# We can't just rely on the names, because RMSE is pretty high\n",
    "\n",
    "varimp = gbm_model.varimp(use_pandas=True)\n",
    "top_20 = list(varimp.head(20)[\"variable\"])\n",
    "print(top_20)"
   ]
  },
  {
   "cell_type": "code",
   "execution_count": null,
   "id": "6a61f3e4-4a4d-4ba0-a057-3c18e9b0c354",
   "metadata": {},
   "outputs": [],
   "source": [
    "## In word2vec.ipynb, we see the top 20 most important categorizations\n",
    "# Let's filter just for those 20\n",
    "top_20 = list(set(airbnb_names_vecs.names)  & set(top_20))\n",
    "airbnb_names_vecs = airbnb_names_vecs[valid_airbnb_names, :]\n",
    "airbnb_names_vecs = airbnb_names_vecs[top_20]\n",
    "airbnb_names_vecs\n",
    "#data = airbnb_names[valid_airbnb_names,:].cbind(airbnb_names_vecs[valid_airbnb_names,:])\n",
    "#data"
   ]
  },
  {
   "cell_type": "code",
   "execution_count": null,
   "id": "9c546e7c-9e8a-4041-8fd3-b00d3fd8bf46",
   "metadata": {},
   "outputs": [],
   "source": [
    "## In word2vec.ipynb, we see the top 20 most important categorizations\n",
    "# Let's filter just for those 20\n",
    "data = pd.DataFrame(airbnb_names[valid_airbnb_names,:].cbind(airbnb_names_vecs))"
   ]
  },
  {
   "cell_type": "code",
   "execution_count": null,
   "id": "07e8d09e-3fc3-4405-b8b7-c746cf6622c3",
   "metadata": {},
   "outputs": [],
   "source": [
    "## Let's create gradient-boosted model\n",
    "type(data)"
   ]
  }
 ],
 "metadata": {
  "kernelspec": {
   "display_name": "Python 3 (ipykernel)",
   "language": "python",
   "name": "python3"
  },
  "language_info": {
   "codemirror_mode": {
    "name": "ipython",
    "version": 3
   },
   "file_extension": ".py",
   "mimetype": "text/x-python",
   "name": "python",
   "nbconvert_exporter": "python",
   "pygments_lexer": "ipython3",
   "version": "3.8.10"
  }
 },
 "nbformat": 4,
 "nbformat_minor": 5
}
