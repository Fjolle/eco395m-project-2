{
 "cells": [
  {
   "cell_type": "code",
   "execution_count": 33,
   "id": "04dcc672-9629-43d3-aa04-b4840ee73752",
   "metadata": {},
   "outputs": [
    {
     "name": "stdout",
     "output_type": "stream",
     "text": [
      "Checking whether there is an H2O instance running at http://localhost:54321 . connected.\n"
     ]
    },
    {
     "data": {
      "text/html": [
       "<div style=\"overflow:auto\"><table style=\"width:50%\"><tr><td>H2O_cluster_uptime:</td>\n",
       "<td>4 hours 46 mins</td></tr>\n",
       "<tr><td>H2O_cluster_timezone:</td>\n",
       "<td>America/Chicago</td></tr>\n",
       "<tr><td>H2O_data_parsing_timezone:</td>\n",
       "<td>UTC</td></tr>\n",
       "<tr><td>H2O_cluster_version:</td>\n",
       "<td>3.36.1.1</td></tr>\n",
       "<tr><td>H2O_cluster_version_age:</td>\n",
       "<td>27 days </td></tr>\n",
       "<tr><td>H2O_cluster_name:</td>\n",
       "<td>H2O_from_python_csridlen_enbzy1</td></tr>\n",
       "<tr><td>H2O_cluster_total_nodes:</td>\n",
       "<td>1</td></tr>\n",
       "<tr><td>H2O_cluster_free_memory:</td>\n",
       "<td>1.618 Gb</td></tr>\n",
       "<tr><td>H2O_cluster_total_cores:</td>\n",
       "<td>8</td></tr>\n",
       "<tr><td>H2O_cluster_allowed_cores:</td>\n",
       "<td>8</td></tr>\n",
       "<tr><td>H2O_cluster_status:</td>\n",
       "<td>locked, healthy</td></tr>\n",
       "<tr><td>H2O_connection_url:</td>\n",
       "<td>http://localhost:54321</td></tr>\n",
       "<tr><td>H2O_connection_proxy:</td>\n",
       "<td>{\"http\": null, \"https\": null}</td></tr>\n",
       "<tr><td>H2O_internal_security:</td>\n",
       "<td>False</td></tr>\n",
       "<tr><td>Python_version:</td>\n",
       "<td>3.8.10 final</td></tr></table></div>"
      ],
      "text/plain": [
       "--------------------------  -------------------------------\n",
       "H2O_cluster_uptime:         4 hours 46 mins\n",
       "H2O_cluster_timezone:       America/Chicago\n",
       "H2O_data_parsing_timezone:  UTC\n",
       "H2O_cluster_version:        3.36.1.1\n",
       "H2O_cluster_version_age:    27 days\n",
       "H2O_cluster_name:           H2O_from_python_csridlen_enbzy1\n",
       "H2O_cluster_total_nodes:    1\n",
       "H2O_cluster_free_memory:    1.618 Gb\n",
       "H2O_cluster_total_cores:    8\n",
       "H2O_cluster_allowed_cores:  8\n",
       "H2O_cluster_status:         locked, healthy\n",
       "H2O_connection_url:         http://localhost:54321\n",
       "H2O_connection_proxy:       {\"http\": null, \"https\": null}\n",
       "H2O_internal_security:      False\n",
       "Python_version:             3.8.10 final\n",
       "--------------------------  -------------------------------"
      ]
     },
     "metadata": {},
     "output_type": "display_data"
    }
   ],
   "source": [
    "from word2vec_functions import *\n",
    "import h2o\n",
    "h2o.init()\n",
    "import numpy as np\n",
    "import pandas as pd\n",
    "from h2o.estimators.word2vec import H2OWord2vecEstimator\n",
    "from h2o.estimators.gbm import H2OGradientBoostingEstimator\n",
    "import sklearn\n",
    "from sklearn import ensemble\n",
    "from sklearn.model_selection import train_test_split\n",
    "from sklearn.preprocessing import OneHotEncoder"
   ]
  },
  {
   "cell_type": "code",
   "execution_count": 2,
   "id": "dac8c2e6-af7a-45c0-81d2-4a6af0b6c367",
   "metadata": {},
   "outputs": [
    {
     "name": "stdout",
     "output_type": "stream",
     "text": [
      "Parse progress: |████████████████████████████████████████████████████████████████| (done) 100%\n",
      "word2vec Model Build progress: |█████████████████████████████████████████████████| (done) 100%\n"
     ]
    }
   ],
   "source": [
    "# Initializing word2vec model\n",
    "airbnb_path = \"../data/newnh_airbnb_2021.csv\"\n",
    "airbnb_names = h2o.import_file(airbnb_path, destination_frame = \"airbnbnames\",\n",
    "                             header = 1)\n",
    "# Create word vectors\n",
    "words = tokenize(airbnb_names[\"name\"])\n",
    "w2v_model = H2OWord2vecEstimator(sent_sample_rate = 0.0, epochs = 10)\n",
    "w2v_model.train(training_frame = words)\n",
    "airbnb_names_vecs = w2v_model.transform(words, aggregate_method = \"AVERAGE\")\n",
    "valid_airbnb_names = ~ airbnb_names_vecs[\"C1\"].isna()\n",
    "data = airbnb_names[valid_airbnb_names,:].cbind(airbnb_names_vecs[valid_airbnb_names,:])\n",
    "data_split = data.split_frame(ratios=[0.8])"
   ]
  },
  {
   "cell_type": "code",
   "execution_count": 3,
   "id": "773032a8-ea82-442a-b457-db02d05e779d",
   "metadata": {},
   "outputs": [
    {
     "name": "stdout",
     "output_type": "stream",
     "text": [
      "gbm Model Build progress: |██████████████████████████████████████████████████████| (done) 100%\n",
      "['C92', 'C97', 'C33', 'C60', 'C30', 'C46', 'C62', 'C16', 'C53', 'C81', 'C9', 'C84', 'C49', 'C66', 'C29', 'C85', 'C17', 'C57', 'C65', 'C21']\n"
     ]
    }
   ],
   "source": [
    "gbm_model = H2OGradientBoostingEstimator()\n",
    "gbm_model.train(x = airbnb_names_vecs.names,\n",
    "                y= \"price\", \n",
    "                training_frame = data_split[0], \n",
    "                validation_frame = data_split[1])\n",
    "\n",
    "# We can't just rely on the names because RMSE is pretty high\n",
    "\n",
    "varimp = gbm_model.varimp(use_pandas=True)\n",
    "top_20 = list(varimp.head(20)[\"variable\"])\n",
    "print(top_20)"
   ]
  },
  {
   "cell_type": "code",
   "execution_count": 4,
   "id": "6a61f3e4-4a4d-4ba0-a057-3c18e9b0c354",
   "metadata": {},
   "outputs": [
    {
     "data": {
      "text/html": [
       "<table>\n",
       "<thead>\n",
       "<tr><th style=\"text-align: right;\">       C30</th><th style=\"text-align: right;\">       C65</th><th style=\"text-align: right;\">       C85</th><th style=\"text-align: right;\">         C17</th><th style=\"text-align: right;\">       C81</th><th style=\"text-align: right;\">       C46</th><th style=\"text-align: right;\">      C29</th><th style=\"text-align: right;\">       C21</th><th style=\"text-align: right;\">       C97</th><th style=\"text-align: right;\">      C49</th><th style=\"text-align: right;\">        C16</th><th style=\"text-align: right;\">       C33</th><th style=\"text-align: right;\">        C92</th><th style=\"text-align: right;\">         C9</th><th style=\"text-align: right;\">        C62</th><th style=\"text-align: right;\">       C57</th><th style=\"text-align: right;\">       C53</th><th style=\"text-align: right;\">        C66</th><th style=\"text-align: right;\">       C60</th><th style=\"text-align: right;\">        C84</th></tr>\n",
       "</thead>\n",
       "<tbody>\n",
       "<tr><td style=\"text-align: right;\"> 0.138452 </td><td style=\"text-align: right;\"> 0.0882096</td><td style=\"text-align: right;\">-0.109111 </td><td style=\"text-align: right;\">-0.0932079  </td><td style=\"text-align: right;\">-0.0281687</td><td style=\"text-align: right;\"> 0.0839297</td><td style=\"text-align: right;\">0.346719 </td><td style=\"text-align: right;\"> 0.0564687</td><td style=\"text-align: right;\">-0.130399 </td><td style=\"text-align: right;\">-0.264949</td><td style=\"text-align: right;\"> 0.00569484</td><td style=\"text-align: right;\"> 0.158718 </td><td style=\"text-align: right;\">-0.0437643 </td><td style=\"text-align: right;\">-0.00786723</td><td style=\"text-align: right;\"> 0.00894642</td><td style=\"text-align: right;\">-0.111275 </td><td style=\"text-align: right;\">-0.0232239</td><td style=\"text-align: right;\">-0.158035  </td><td style=\"text-align: right;\">-0.211503 </td><td style=\"text-align: right;\">-0.162331  </td></tr>\n",
       "<tr><td style=\"text-align: right;\"> 0.10467  </td><td style=\"text-align: right;\"> 0.211296 </td><td style=\"text-align: right;\">-0.192658 </td><td style=\"text-align: right;\">-0.0459824  </td><td style=\"text-align: right;\">-0.145458 </td><td style=\"text-align: right;\"> 0.190162 </td><td style=\"text-align: right;\">0.186416 </td><td style=\"text-align: right;\"> 0.0864193</td><td style=\"text-align: right;\">-0.239544 </td><td style=\"text-align: right;\">-0.241183</td><td style=\"text-align: right;\">-0.0661186 </td><td style=\"text-align: right;\">-0.0618359</td><td style=\"text-align: right;\"> 0.251197  </td><td style=\"text-align: right;\"> 0.0353954 </td><td style=\"text-align: right;\"> 0.106801  </td><td style=\"text-align: right;\"> 0.0756906</td><td style=\"text-align: right;\"> 0.0167082</td><td style=\"text-align: right;\">-0.277006  </td><td style=\"text-align: right;\">-0.131027 </td><td style=\"text-align: right;\"> 0.058207  </td></tr>\n",
       "<tr><td style=\"text-align: right;\"> 0.0256332</td><td style=\"text-align: right;\">-0.0220693</td><td style=\"text-align: right;\">-0.256189 </td><td style=\"text-align: right;\">-0.0447542  </td><td style=\"text-align: right;\"> 0.0881627</td><td style=\"text-align: right;\"> 0.0053105</td><td style=\"text-align: right;\">0.231273 </td><td style=\"text-align: right;\"> 0.0596998</td><td style=\"text-align: right;\">-0.136719 </td><td style=\"text-align: right;\">-0.281873</td><td style=\"text-align: right;\"> 0.0993152 </td><td style=\"text-align: right;\">-0.173435 </td><td style=\"text-align: right;\"> 0.00481443</td><td style=\"text-align: right;\">-0.00576418</td><td style=\"text-align: right;\"> 0.12721   </td><td style=\"text-align: right;\"> 0.199854 </td><td style=\"text-align: right;\">-0.0347593</td><td style=\"text-align: right;\"> 0.0589286 </td><td style=\"text-align: right;\">-0.23413  </td><td style=\"text-align: right;\"> 0.00216571</td></tr>\n",
       "<tr><td style=\"text-align: right;\"> 0.0915846</td><td style=\"text-align: right;\"> 0.293155 </td><td style=\"text-align: right;\">-0.0973103</td><td style=\"text-align: right;\">-0.190998   </td><td style=\"text-align: right;\">-0.213081 </td><td style=\"text-align: right;\"> 0.10819  </td><td style=\"text-align: right;\">0.181367 </td><td style=\"text-align: right;\"> 0.0348803</td><td style=\"text-align: right;\">-0.159283 </td><td style=\"text-align: right;\">-0.204446</td><td style=\"text-align: right;\"> 0.158485  </td><td style=\"text-align: right;\"> 0.0732135</td><td style=\"text-align: right;\">-0.0690258 </td><td style=\"text-align: right;\"> 0.0393661 </td><td style=\"text-align: right;\"> 0.188906  </td><td style=\"text-align: right;\"> 0.149343 </td><td style=\"text-align: right;\"> 0.235994 </td><td style=\"text-align: right;\"> 0.00503856</td><td style=\"text-align: right;\">-0.117875 </td><td style=\"text-align: right;\"> 0.0336975 </td></tr>\n",
       "<tr><td style=\"text-align: right;\"> 0.162707 </td><td style=\"text-align: right;\"> 0.110302 </td><td style=\"text-align: right;\">-0.0989238</td><td style=\"text-align: right;\">-0.0865106  </td><td style=\"text-align: right;\">-0.144345 </td><td style=\"text-align: right;\"> 0.267411 </td><td style=\"text-align: right;\">0.220156 </td><td style=\"text-align: right;\">-0.0935621</td><td style=\"text-align: right;\">-0.202636 </td><td style=\"text-align: right;\">-0.271676</td><td style=\"text-align: right;\">-0.0247078 </td><td style=\"text-align: right;\"> 0.0837265</td><td style=\"text-align: right;\"> 0.00236096</td><td style=\"text-align: right;\"> 0.142765  </td><td style=\"text-align: right;\"> 0.0088824 </td><td style=\"text-align: right;\"> 0.0231127</td><td style=\"text-align: right;\"> 0.23223  </td><td style=\"text-align: right;\"> 0.0177517 </td><td style=\"text-align: right;\">-0.0252448</td><td style=\"text-align: right;\"> 0.162048  </td></tr>\n",
       "<tr><td style=\"text-align: right;\"> 0.0254488</td><td style=\"text-align: right;\"> 0.0652406</td><td style=\"text-align: right;\">-0.335152 </td><td style=\"text-align: right;\"> 0.0215001  </td><td style=\"text-align: right;\">-0.101563 </td><td style=\"text-align: right;\"> 0.119857 </td><td style=\"text-align: right;\">0.0325376</td><td style=\"text-align: right;\"> 0.0254503</td><td style=\"text-align: right;\">-0.108634 </td><td style=\"text-align: right;\">-0.299177</td><td style=\"text-align: right;\"> 0.119306  </td><td style=\"text-align: right;\">-0.149501 </td><td style=\"text-align: right;\"> 0.114587  </td><td style=\"text-align: right;\"> 0.0832183 </td><td style=\"text-align: right;\"> 0.0430904 </td><td style=\"text-align: right;\">-0.0527559</td><td style=\"text-align: right;\"> 0.183255 </td><td style=\"text-align: right;\"> 0.0427877 </td><td style=\"text-align: right;\">-0.0429539</td><td style=\"text-align: right;\"> 0.116422  </td></tr>\n",
       "<tr><td style=\"text-align: right;\"> 0.276262 </td><td style=\"text-align: right;\"> 0.070509 </td><td style=\"text-align: right;\"> 0.070852 </td><td style=\"text-align: right;\"> 0.000369769</td><td style=\"text-align: right;\">-0.183965 </td><td style=\"text-align: right;\"> 0.379194 </td><td style=\"text-align: right;\">0.182335 </td><td style=\"text-align: right;\">-0.044723 </td><td style=\"text-align: right;\"> 0.0972133</td><td style=\"text-align: right;\">-0.19825 </td><td style=\"text-align: right;\">-0.167795  </td><td style=\"text-align: right;\">-0.0412998</td><td style=\"text-align: right;\"> 0.140137  </td><td style=\"text-align: right;\"> 0.174682  </td><td style=\"text-align: right;\">-0.0543366 </td><td style=\"text-align: right;\">-0.0327202</td><td style=\"text-align: right;\"> 0.143864 </td><td style=\"text-align: right;\">-0.173741  </td><td style=\"text-align: right;\">-0.315762 </td><td style=\"text-align: right;\">-0.0957297 </td></tr>\n",
       "<tr><td style=\"text-align: right;\"> 0.341587 </td><td style=\"text-align: right;\"> 0.0148213</td><td style=\"text-align: right;\">-0.142423 </td><td style=\"text-align: right;\">-0.347568   </td><td style=\"text-align: right;\"> 0.0320922</td><td style=\"text-align: right;\"> 0.147152 </td><td style=\"text-align: right;\">0.138503 </td><td style=\"text-align: right;\">-0.190036 </td><td style=\"text-align: right;\">-0.187483 </td><td style=\"text-align: right;\">-0.212368</td><td style=\"text-align: right;\">-0.0448324 </td><td style=\"text-align: right;\">-0.0501488</td><td style=\"text-align: right;\"> 0.168962  </td><td style=\"text-align: right;\"> 0.218561  </td><td style=\"text-align: right;\"> 0.199515  </td><td style=\"text-align: right;\"> 0.158083 </td><td style=\"text-align: right;\"> 0.0451653</td><td style=\"text-align: right;\">-0.0449297 </td><td style=\"text-align: right;\"> 0.0137013</td><td style=\"text-align: right;\"> 0.201687  </td></tr>\n",
       "<tr><td style=\"text-align: right;\"> 0.317527 </td><td style=\"text-align: right;\"> 0.125857 </td><td style=\"text-align: right;\">-0.224148 </td><td style=\"text-align: right;\">-0.0568766  </td><td style=\"text-align: right;\">-0.15614  </td><td style=\"text-align: right;\">-0.0403699</td><td style=\"text-align: right;\">0.375767 </td><td style=\"text-align: right;\"> 0.0274122</td><td style=\"text-align: right;\">-0.180391 </td><td style=\"text-align: right;\">-0.372636</td><td style=\"text-align: right;\"> 0.136539  </td><td style=\"text-align: right;\">-0.0340165</td><td style=\"text-align: right;\">-0.208416  </td><td style=\"text-align: right;\"> 0.303544  </td><td style=\"text-align: right;\"> 0.161755  </td><td style=\"text-align: right;\"> 0.124959 </td><td style=\"text-align: right;\"> 0.0715356</td><td style=\"text-align: right;\"> 0.0779732 </td><td style=\"text-align: right;\">-0.198293 </td><td style=\"text-align: right;\"> 0.115918  </td></tr>\n",
       "<tr><td style=\"text-align: right;\">-0.0126726</td><td style=\"text-align: right;\"> 0.12384  </td><td style=\"text-align: right;\"> 0.0443981</td><td style=\"text-align: right;\">-0.143841   </td><td style=\"text-align: right;\">-0.0435344</td><td style=\"text-align: right;\"> 0.218653 </td><td style=\"text-align: right;\">0.0859209</td><td style=\"text-align: right;\"> 0.118677 </td><td style=\"text-align: right;\">-0.168895 </td><td style=\"text-align: right;\">-0.147903</td><td style=\"text-align: right;\"> 0.0428687 </td><td style=\"text-align: right;\">-0.151905 </td><td style=\"text-align: right;\">-0.115328  </td><td style=\"text-align: right;\"> 0.0640788 </td><td style=\"text-align: right;\"> 0.0147373 </td><td style=\"text-align: right;\">-0.047455 </td><td style=\"text-align: right;\"> 0.127387 </td><td style=\"text-align: right;\">-0.109779  </td><td style=\"text-align: right;\">-0.0996156</td><td style=\"text-align: right;\"> 0.0886643 </td></tr>\n",
       "</tbody>\n",
       "</table>"
      ]
     },
     "metadata": {},
     "output_type": "display_data"
    },
    {
     "data": {
      "text/plain": []
     },
     "execution_count": 4,
     "metadata": {},
     "output_type": "execute_result"
    }
   ],
   "source": [
    "## In word2vec.ipynb, we see the top 20 most important categorizations\n",
    "# Let's filter just for those 20\n",
    "top_20_list = list(set(airbnb_names_vecs.names)  & set(top_20))\n",
    "airbnb_names_vecs = airbnb_names_vecs[valid_airbnb_names, :]\n",
    "airbnb_names_vecs = airbnb_names_vecs[top_20_list]\n",
    "airbnb_names_vecs\n",
    "#data = airbnb_names[valid_airbnb_names,:].cbind(airbnb_names_vecs[valid_airbnb_names,:])\n",
    "#data"
   ]
  },
  {
   "cell_type": "code",
   "execution_count": 47,
   "id": "9c546e7c-9e8a-4041-8fd3-b00d3fd8bf46",
   "metadata": {},
   "outputs": [
    {
     "data": {
      "text/plain": [
       "Index([                            'id',                 'minimum_nights',\n",
       "                    'number_of_reviews',              'reviews_per_month',\n",
       "       'calculated_host_listings_count',               'availability_365',\n",
       "                'number_of_reviews_ltm',                        'license',\n",
       "                    'new_neighbourhood',                            'C30',\n",
       "                                  'C65',                            'C85',\n",
       "                                  'C17',                            'C81',\n",
       "                                  'C46',                            'C29',\n",
       "                                  'C21',                            'C97',\n",
       "                                  'C49',                            'C16',\n",
       "                                  'C33',                            'C92',\n",
       "                                   'C9',                            'C62',\n",
       "                                  'C57',                            'C53',\n",
       "                                  'C66',                            'C60',\n",
       "                                  'C84',                                0],\n",
       "      dtype='object')"
      ]
     },
     "execution_count": 47,
     "metadata": {},
     "output_type": "execute_result"
    }
   ],
   "source": [
    "data = airbnb_names[valid_airbnb_names,:].cbind(airbnb_names_vecs).as_data_frame()\n",
    "data"
   ]
  },
  {
   "cell_type": "code",
   "execution_count": 83,
   "id": "a10d8f93-dba6-48f5-9028-d95689c18c5a",
   "metadata": {},
   "outputs": [],
   "source": [
    "not_used = [\"name\", \"neighbourhood\", \"neighbourhood_group\", \"latitude\", \"longitude\", \"price\", \"last_review\"]\n",
    "X = data.drop(not_used, axis = 1)\n",
    "X\n",
    "## One-hot encoding for categorical variables\n",
    "encoder = OneHotEncoder(handle_unknown = 'ignore')\n",
    "# encode all categorical variables\n",
    "X_encode = pd.DataFrame(encoder.fit_transform(X[[\"id\", \"host_id\", \"host_name\", \"room_type\", \"new_neighbourhood\"]]))\n",
    "X = pd.concat([X, X_encode], axis = 1, join = \"outer\")\n",
    "# Drop original categorical variables that are now o-h-e\n",
    "cat = [\"id\", \"host_id\", \"host_name\", \"room_type\", \"new_neighbourhood\"]\n",
    "X = X.drop(cat, axis = 1)\n",
    "y = data.loc[ :, data.columns == \"price\"]\n",
    "X.dtypes\n",
    "dict_ints = {'minimum_nights': float,\n",
    "             'number_of_reviews': float,\n",
    "             'calculated_host_listings_count': float,\n",
    "             'availability_365': float,\n",
    "             'number_of_reviews_ltm': float\n",
    "}\n",
    "X = X.astype(dict_ints)\n",
    "y = y.astype(float)"
   ]
  },
  {
   "cell_type": "code",
   "execution_count": 84,
   "id": "07e8d09e-3fc3-4405-b8b7-c746cf6622c3",
   "metadata": {},
   "outputs": [
    {
     "name": "stderr",
     "output_type": "stream",
     "text": [
      "/home/csridlen/.local/lib/python3.8/site-packages/sklearn/utils/validation.py:1688: FutureWarning: Feature names only support names that are all strings. Got feature names with dtypes: ['int', 'str']. An error will be raised in 1.2.\n",
      "  warnings.warn(\n"
     ]
    },
    {
     "ename": "ValueError",
     "evalue": "setting an array element with a sequence.",
     "output_type": "error",
     "traceback": [
      "\u001b[0;31m---------------------------------------------------------------------------\u001b[0m",
      "\u001b[0;31mValueError\u001b[0m                                Traceback (most recent call last)",
      "Input \u001b[0;32mIn [84]\u001b[0m, in \u001b[0;36m<cell line: 13>\u001b[0;34m()\u001b[0m\n\u001b[1;32m      6\u001b[0m params \u001b[38;5;241m=\u001b[39m {\n\u001b[1;32m      7\u001b[0m     \u001b[38;5;124m\"\u001b[39m\u001b[38;5;124mn_estimators\u001b[39m\u001b[38;5;124m\"\u001b[39m: \u001b[38;5;241m500\u001b[39m,\n\u001b[1;32m      8\u001b[0m     \u001b[38;5;124m\"\u001b[39m\u001b[38;5;124mmax_depth\u001b[39m\u001b[38;5;124m\"\u001b[39m: \u001b[38;5;241m4\u001b[39m,\n\u001b[1;32m      9\u001b[0m     \u001b[38;5;124m\"\u001b[39m\u001b[38;5;124mmin_samples_split\u001b[39m\u001b[38;5;124m\"\u001b[39m: \u001b[38;5;241m5\u001b[39m,\n\u001b[1;32m     10\u001b[0m     \u001b[38;5;124m\"\u001b[39m\u001b[38;5;124mlearning_rate\u001b[39m\u001b[38;5;124m\"\u001b[39m: \u001b[38;5;241m0.001\u001b[39m,\n\u001b[1;32m     11\u001b[0m     \u001b[38;5;124m\"\u001b[39m\u001b[38;5;124mloss\u001b[39m\u001b[38;5;124m\"\u001b[39m: \u001b[38;5;124m\"\u001b[39m\u001b[38;5;124msquared_error\u001b[39m\u001b[38;5;124m\"\u001b[39m}\n\u001b[1;32m     12\u001b[0m reg \u001b[38;5;241m=\u001b[39m ensemble\u001b[38;5;241m.\u001b[39mGradientBoostingRegressor(\u001b[38;5;241m*\u001b[39m\u001b[38;5;241m*\u001b[39mparams)\n\u001b[0;32m---> 13\u001b[0m \u001b[43mreg\u001b[49m\u001b[38;5;241;43m.\u001b[39;49m\u001b[43mfit\u001b[49m\u001b[43m(\u001b[49m\u001b[43mX_train\u001b[49m\u001b[43m,\u001b[49m\u001b[43m \u001b[49m\u001b[43my_train\u001b[49m\u001b[43m)\u001b[49m\n\u001b[1;32m     14\u001b[0m rmse \u001b[38;5;241m=\u001b[39m root_mean_squared_error(y_test, reg\u001b[38;5;241m.\u001b[39mpredict(X_test))\n",
      "File \u001b[0;32m~/.local/lib/python3.8/site-packages/sklearn/ensemble/_gb.py:486\u001b[0m, in \u001b[0;36mBaseGradientBoosting.fit\u001b[0;34m(self, X, y, sample_weight, monitor)\u001b[0m\n\u001b[1;32m    480\u001b[0m     \u001b[38;5;28mself\u001b[39m\u001b[38;5;241m.\u001b[39m_clear_state()\n\u001b[1;32m    482\u001b[0m \u001b[38;5;66;03m# Check input\u001b[39;00m\n\u001b[1;32m    483\u001b[0m \u001b[38;5;66;03m# Since check_array converts both X and y to the same dtype, but the\u001b[39;00m\n\u001b[1;32m    484\u001b[0m \u001b[38;5;66;03m# trees use different types for X and y, checking them separately.\u001b[39;00m\n\u001b[0;32m--> 486\u001b[0m X, y \u001b[38;5;241m=\u001b[39m \u001b[38;5;28;43mself\u001b[39;49m\u001b[38;5;241;43m.\u001b[39;49m\u001b[43m_validate_data\u001b[49m\u001b[43m(\u001b[49m\n\u001b[1;32m    487\u001b[0m \u001b[43m    \u001b[49m\u001b[43mX\u001b[49m\u001b[43m,\u001b[49m\u001b[43m \u001b[49m\u001b[43my\u001b[49m\u001b[43m,\u001b[49m\u001b[43m \u001b[49m\u001b[43maccept_sparse\u001b[49m\u001b[38;5;241;43m=\u001b[39;49m\u001b[43m[\u001b[49m\u001b[38;5;124;43m\"\u001b[39;49m\u001b[38;5;124;43mcsr\u001b[39;49m\u001b[38;5;124;43m\"\u001b[39;49m\u001b[43m,\u001b[49m\u001b[43m \u001b[49m\u001b[38;5;124;43m\"\u001b[39;49m\u001b[38;5;124;43mcsc\u001b[39;49m\u001b[38;5;124;43m\"\u001b[39;49m\u001b[43m,\u001b[49m\u001b[43m \u001b[49m\u001b[38;5;124;43m\"\u001b[39;49m\u001b[38;5;124;43mcoo\u001b[39;49m\u001b[38;5;124;43m\"\u001b[39;49m\u001b[43m]\u001b[49m\u001b[43m,\u001b[49m\u001b[43m \u001b[49m\u001b[43mdtype\u001b[49m\u001b[38;5;241;43m=\u001b[39;49m\u001b[43mDTYPE\u001b[49m\u001b[43m,\u001b[49m\u001b[43m \u001b[49m\u001b[43mmulti_output\u001b[49m\u001b[38;5;241;43m=\u001b[39;49m\u001b[38;5;28;43;01mTrue\u001b[39;49;00m\n\u001b[1;32m    488\u001b[0m \u001b[43m\u001b[49m\u001b[43m)\u001b[49m\n\u001b[1;32m    490\u001b[0m sample_weight_is_none \u001b[38;5;241m=\u001b[39m sample_weight \u001b[38;5;129;01mis\u001b[39;00m \u001b[38;5;28;01mNone\u001b[39;00m\n\u001b[1;32m    492\u001b[0m sample_weight \u001b[38;5;241m=\u001b[39m _check_sample_weight(sample_weight, X)\n",
      "File \u001b[0;32m~/.local/lib/python3.8/site-packages/sklearn/base.py:581\u001b[0m, in \u001b[0;36mBaseEstimator._validate_data\u001b[0;34m(self, X, y, reset, validate_separately, **check_params)\u001b[0m\n\u001b[1;32m    579\u001b[0m         y \u001b[38;5;241m=\u001b[39m check_array(y, \u001b[38;5;241m*\u001b[39m\u001b[38;5;241m*\u001b[39mcheck_y_params)\n\u001b[1;32m    580\u001b[0m     \u001b[38;5;28;01melse\u001b[39;00m:\n\u001b[0;32m--> 581\u001b[0m         X, y \u001b[38;5;241m=\u001b[39m \u001b[43mcheck_X_y\u001b[49m\u001b[43m(\u001b[49m\u001b[43mX\u001b[49m\u001b[43m,\u001b[49m\u001b[43m \u001b[49m\u001b[43my\u001b[49m\u001b[43m,\u001b[49m\u001b[43m \u001b[49m\u001b[38;5;241;43m*\u001b[39;49m\u001b[38;5;241;43m*\u001b[39;49m\u001b[43mcheck_params\u001b[49m\u001b[43m)\u001b[49m\n\u001b[1;32m    582\u001b[0m     out \u001b[38;5;241m=\u001b[39m X, y\n\u001b[1;32m    584\u001b[0m \u001b[38;5;28;01mif\u001b[39;00m \u001b[38;5;129;01mnot\u001b[39;00m no_val_X \u001b[38;5;129;01mand\u001b[39;00m check_params\u001b[38;5;241m.\u001b[39mget(\u001b[38;5;124m\"\u001b[39m\u001b[38;5;124mensure_2d\u001b[39m\u001b[38;5;124m\"\u001b[39m, \u001b[38;5;28;01mTrue\u001b[39;00m):\n",
      "File \u001b[0;32m~/.local/lib/python3.8/site-packages/sklearn/utils/validation.py:964\u001b[0m, in \u001b[0;36mcheck_X_y\u001b[0;34m(X, y, accept_sparse, accept_large_sparse, dtype, order, copy, force_all_finite, ensure_2d, allow_nd, multi_output, ensure_min_samples, ensure_min_features, y_numeric, estimator)\u001b[0m\n\u001b[1;32m    961\u001b[0m \u001b[38;5;28;01mif\u001b[39;00m y \u001b[38;5;129;01mis\u001b[39;00m \u001b[38;5;28;01mNone\u001b[39;00m:\n\u001b[1;32m    962\u001b[0m     \u001b[38;5;28;01mraise\u001b[39;00m \u001b[38;5;167;01mValueError\u001b[39;00m(\u001b[38;5;124m\"\u001b[39m\u001b[38;5;124my cannot be None\u001b[39m\u001b[38;5;124m\"\u001b[39m)\n\u001b[0;32m--> 964\u001b[0m X \u001b[38;5;241m=\u001b[39m \u001b[43mcheck_array\u001b[49m\u001b[43m(\u001b[49m\n\u001b[1;32m    965\u001b[0m \u001b[43m    \u001b[49m\u001b[43mX\u001b[49m\u001b[43m,\u001b[49m\n\u001b[1;32m    966\u001b[0m \u001b[43m    \u001b[49m\u001b[43maccept_sparse\u001b[49m\u001b[38;5;241;43m=\u001b[39;49m\u001b[43maccept_sparse\u001b[49m\u001b[43m,\u001b[49m\n\u001b[1;32m    967\u001b[0m \u001b[43m    \u001b[49m\u001b[43maccept_large_sparse\u001b[49m\u001b[38;5;241;43m=\u001b[39;49m\u001b[43maccept_large_sparse\u001b[49m\u001b[43m,\u001b[49m\n\u001b[1;32m    968\u001b[0m \u001b[43m    \u001b[49m\u001b[43mdtype\u001b[49m\u001b[38;5;241;43m=\u001b[39;49m\u001b[43mdtype\u001b[49m\u001b[43m,\u001b[49m\n\u001b[1;32m    969\u001b[0m \u001b[43m    \u001b[49m\u001b[43morder\u001b[49m\u001b[38;5;241;43m=\u001b[39;49m\u001b[43morder\u001b[49m\u001b[43m,\u001b[49m\n\u001b[1;32m    970\u001b[0m \u001b[43m    \u001b[49m\u001b[43mcopy\u001b[49m\u001b[38;5;241;43m=\u001b[39;49m\u001b[43mcopy\u001b[49m\u001b[43m,\u001b[49m\n\u001b[1;32m    971\u001b[0m \u001b[43m    \u001b[49m\u001b[43mforce_all_finite\u001b[49m\u001b[38;5;241;43m=\u001b[39;49m\u001b[43mforce_all_finite\u001b[49m\u001b[43m,\u001b[49m\n\u001b[1;32m    972\u001b[0m \u001b[43m    \u001b[49m\u001b[43mensure_2d\u001b[49m\u001b[38;5;241;43m=\u001b[39;49m\u001b[43mensure_2d\u001b[49m\u001b[43m,\u001b[49m\n\u001b[1;32m    973\u001b[0m \u001b[43m    \u001b[49m\u001b[43mallow_nd\u001b[49m\u001b[38;5;241;43m=\u001b[39;49m\u001b[43mallow_nd\u001b[49m\u001b[43m,\u001b[49m\n\u001b[1;32m    974\u001b[0m \u001b[43m    \u001b[49m\u001b[43mensure_min_samples\u001b[49m\u001b[38;5;241;43m=\u001b[39;49m\u001b[43mensure_min_samples\u001b[49m\u001b[43m,\u001b[49m\n\u001b[1;32m    975\u001b[0m \u001b[43m    \u001b[49m\u001b[43mensure_min_features\u001b[49m\u001b[38;5;241;43m=\u001b[39;49m\u001b[43mensure_min_features\u001b[49m\u001b[43m,\u001b[49m\n\u001b[1;32m    976\u001b[0m \u001b[43m    \u001b[49m\u001b[43mestimator\u001b[49m\u001b[38;5;241;43m=\u001b[39;49m\u001b[43mestimator\u001b[49m\u001b[43m,\u001b[49m\n\u001b[1;32m    977\u001b[0m \u001b[43m\u001b[49m\u001b[43m)\u001b[49m\n\u001b[1;32m    979\u001b[0m y \u001b[38;5;241m=\u001b[39m _check_y(y, multi_output\u001b[38;5;241m=\u001b[39mmulti_output, y_numeric\u001b[38;5;241m=\u001b[39my_numeric)\n\u001b[1;32m    981\u001b[0m check_consistent_length(X, y)\n",
      "File \u001b[0;32m~/.local/lib/python3.8/site-packages/sklearn/utils/validation.py:746\u001b[0m, in \u001b[0;36mcheck_array\u001b[0;34m(array, accept_sparse, accept_large_sparse, dtype, order, copy, force_all_finite, ensure_2d, allow_nd, ensure_min_samples, ensure_min_features, estimator)\u001b[0m\n\u001b[1;32m    744\u001b[0m         array \u001b[38;5;241m=\u001b[39m array\u001b[38;5;241m.\u001b[39mastype(dtype, casting\u001b[38;5;241m=\u001b[39m\u001b[38;5;124m\"\u001b[39m\u001b[38;5;124munsafe\u001b[39m\u001b[38;5;124m\"\u001b[39m, copy\u001b[38;5;241m=\u001b[39m\u001b[38;5;28;01mFalse\u001b[39;00m)\n\u001b[1;32m    745\u001b[0m     \u001b[38;5;28;01melse\u001b[39;00m:\n\u001b[0;32m--> 746\u001b[0m         array \u001b[38;5;241m=\u001b[39m \u001b[43mnp\u001b[49m\u001b[38;5;241;43m.\u001b[39;49m\u001b[43masarray\u001b[49m\u001b[43m(\u001b[49m\u001b[43marray\u001b[49m\u001b[43m,\u001b[49m\u001b[43m \u001b[49m\u001b[43morder\u001b[49m\u001b[38;5;241;43m=\u001b[39;49m\u001b[43morder\u001b[49m\u001b[43m,\u001b[49m\u001b[43m \u001b[49m\u001b[43mdtype\u001b[49m\u001b[38;5;241;43m=\u001b[39;49m\u001b[43mdtype\u001b[49m\u001b[43m)\u001b[49m\n\u001b[1;32m    747\u001b[0m \u001b[38;5;28;01mexcept\u001b[39;00m ComplexWarning \u001b[38;5;28;01mas\u001b[39;00m complex_warning:\n\u001b[1;32m    748\u001b[0m     \u001b[38;5;28;01mraise\u001b[39;00m \u001b[38;5;167;01mValueError\u001b[39;00m(\n\u001b[1;32m    749\u001b[0m         \u001b[38;5;124m\"\u001b[39m\u001b[38;5;124mComplex data not supported\u001b[39m\u001b[38;5;130;01m\\n\u001b[39;00m\u001b[38;5;132;01m{}\u001b[39;00m\u001b[38;5;130;01m\\n\u001b[39;00m\u001b[38;5;124m\"\u001b[39m\u001b[38;5;241m.\u001b[39mformat(array)\n\u001b[1;32m    750\u001b[0m     ) \u001b[38;5;28;01mfrom\u001b[39;00m \u001b[38;5;21;01mcomplex_warning\u001b[39;00m\n",
      "File \u001b[0;32m/usr/lib/python3/dist-packages/numpy/core/_asarray.py:85\u001b[0m, in \u001b[0;36masarray\u001b[0;34m(a, dtype, order)\u001b[0m\n\u001b[1;32m     16\u001b[0m \u001b[38;5;129m@set_module\u001b[39m(\u001b[38;5;124m'\u001b[39m\u001b[38;5;124mnumpy\u001b[39m\u001b[38;5;124m'\u001b[39m)\n\u001b[1;32m     17\u001b[0m \u001b[38;5;28;01mdef\u001b[39;00m \u001b[38;5;21masarray\u001b[39m(a, dtype\u001b[38;5;241m=\u001b[39m\u001b[38;5;28;01mNone\u001b[39;00m, order\u001b[38;5;241m=\u001b[39m\u001b[38;5;28;01mNone\u001b[39;00m):\n\u001b[1;32m     18\u001b[0m     \u001b[38;5;124;03m\"\"\"Convert the input to an array.\u001b[39;00m\n\u001b[1;32m     19\u001b[0m \n\u001b[1;32m     20\u001b[0m \u001b[38;5;124;03m    Parameters\u001b[39;00m\n\u001b[0;32m   (...)\u001b[0m\n\u001b[1;32m     83\u001b[0m \n\u001b[1;32m     84\u001b[0m \u001b[38;5;124;03m    \"\"\"\u001b[39;00m\n\u001b[0;32m---> 85\u001b[0m     \u001b[38;5;28;01mreturn\u001b[39;00m \u001b[43marray\u001b[49m\u001b[43m(\u001b[49m\u001b[43ma\u001b[49m\u001b[43m,\u001b[49m\u001b[43m \u001b[49m\u001b[43mdtype\u001b[49m\u001b[43m,\u001b[49m\u001b[43m \u001b[49m\u001b[43mcopy\u001b[49m\u001b[38;5;241;43m=\u001b[39;49m\u001b[38;5;28;43;01mFalse\u001b[39;49;00m\u001b[43m,\u001b[49m\u001b[43m \u001b[49m\u001b[43morder\u001b[49m\u001b[38;5;241;43m=\u001b[39;49m\u001b[43morder\u001b[49m\u001b[43m)\u001b[49m\n",
      "File \u001b[0;32m~/.local/lib/python3.8/site-packages/pandas/core/generic.py:1993\u001b[0m, in \u001b[0;36mNDFrame.__array__\u001b[0;34m(self, dtype)\u001b[0m\n\u001b[1;32m   1992\u001b[0m \u001b[38;5;28;01mdef\u001b[39;00m \u001b[38;5;21m__array__\u001b[39m(\u001b[38;5;28mself\u001b[39m, dtype: NpDtype \u001b[38;5;241m|\u001b[39m \u001b[38;5;28;01mNone\u001b[39;00m \u001b[38;5;241m=\u001b[39m \u001b[38;5;28;01mNone\u001b[39;00m) \u001b[38;5;241m-\u001b[39m\u001b[38;5;241m>\u001b[39m np\u001b[38;5;241m.\u001b[39mndarray:\n\u001b[0;32m-> 1993\u001b[0m     \u001b[38;5;28;01mreturn\u001b[39;00m \u001b[43mnp\u001b[49m\u001b[38;5;241;43m.\u001b[39;49m\u001b[43masarray\u001b[49m\u001b[43m(\u001b[49m\u001b[38;5;28;43mself\u001b[39;49m\u001b[38;5;241;43m.\u001b[39;49m\u001b[43m_values\u001b[49m\u001b[43m,\u001b[49m\u001b[43m \u001b[49m\u001b[43mdtype\u001b[49m\u001b[38;5;241;43m=\u001b[39;49m\u001b[43mdtype\u001b[49m\u001b[43m)\u001b[49m\n",
      "File \u001b[0;32m/usr/lib/python3/dist-packages/numpy/core/_asarray.py:85\u001b[0m, in \u001b[0;36masarray\u001b[0;34m(a, dtype, order)\u001b[0m\n\u001b[1;32m     16\u001b[0m \u001b[38;5;129m@set_module\u001b[39m(\u001b[38;5;124m'\u001b[39m\u001b[38;5;124mnumpy\u001b[39m\u001b[38;5;124m'\u001b[39m)\n\u001b[1;32m     17\u001b[0m \u001b[38;5;28;01mdef\u001b[39;00m \u001b[38;5;21masarray\u001b[39m(a, dtype\u001b[38;5;241m=\u001b[39m\u001b[38;5;28;01mNone\u001b[39;00m, order\u001b[38;5;241m=\u001b[39m\u001b[38;5;28;01mNone\u001b[39;00m):\n\u001b[1;32m     18\u001b[0m     \u001b[38;5;124;03m\"\"\"Convert the input to an array.\u001b[39;00m\n\u001b[1;32m     19\u001b[0m \n\u001b[1;32m     20\u001b[0m \u001b[38;5;124;03m    Parameters\u001b[39;00m\n\u001b[0;32m   (...)\u001b[0m\n\u001b[1;32m     83\u001b[0m \n\u001b[1;32m     84\u001b[0m \u001b[38;5;124;03m    \"\"\"\u001b[39;00m\n\u001b[0;32m---> 85\u001b[0m     \u001b[38;5;28;01mreturn\u001b[39;00m \u001b[43marray\u001b[49m\u001b[43m(\u001b[49m\u001b[43ma\u001b[49m\u001b[43m,\u001b[49m\u001b[43m \u001b[49m\u001b[43mdtype\u001b[49m\u001b[43m,\u001b[49m\u001b[43m \u001b[49m\u001b[43mcopy\u001b[49m\u001b[38;5;241;43m=\u001b[39;49m\u001b[38;5;28;43;01mFalse\u001b[39;49;00m\u001b[43m,\u001b[49m\u001b[43m \u001b[49m\u001b[43morder\u001b[49m\u001b[38;5;241;43m=\u001b[39;49m\u001b[43morder\u001b[49m\u001b[43m)\u001b[49m\n",
      "\u001b[0;31mValueError\u001b[0m: setting an array element with a sequence."
     ]
    }
   ],
   "source": [
    "## Create gradient-boosted model\n",
    "\n",
    "# Split into train and test\n",
    "X_train, X_test, y_train, y_test = train_test_split(X, y, test_size = 0.2)\n",
    "\n",
    "params = {\n",
    "    \"n_estimators\": 500,\n",
    "    \"max_depth\": 4,\n",
    "    \"min_samples_split\": 5,\n",
    "    \"learning_rate\": 0.001,\n",
    "    \"loss\": \"squared_error\"}\n",
    "reg = ensemble.GradientBoostingRegressor(**params)\n",
    "reg.fit(X_train, y_train)\n",
    "rmse = root_mean_squared_error(y_test, reg.predict(X_test))"
   ]
  },
  {
   "cell_type": "code",
   "execution_count": 69,
   "id": "51cd7948-3b4c-4989-81b6-a04d7e30c5de",
   "metadata": {},
   "outputs": [
    {
     "data": {
      "text/plain": [
       "pandas.core.frame.DataFrame"
      ]
     },
     "execution_count": 69,
     "metadata": {},
     "output_type": "execute_result"
    }
   ],
   "source": [
    "type(X_train)"
   ]
  }
 ],
 "metadata": {
  "kernelspec": {
   "display_name": "Python 3 (ipykernel)",
   "language": "python",
   "name": "python3"
  },
  "language_info": {
   "codemirror_mode": {
    "name": "ipython",
    "version": 3
   },
   "file_extension": ".py",
   "mimetype": "text/x-python",
   "name": "python",
   "nbconvert_exporter": "python",
   "pygments_lexer": "ipython3",
   "version": "3.8.10"
  }
 },
 "nbformat": 4,
 "nbformat_minor": 5
}
