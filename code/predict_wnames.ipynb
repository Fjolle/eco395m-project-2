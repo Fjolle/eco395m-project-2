{
 "cells": [
  {
   "cell_type": "code",
   "execution_count": 11,
   "id": "04dcc672-9629-43d3-aa04-b4840ee73752",
   "metadata": {},
   "outputs": [
    {
     "name": "stdout",
     "output_type": "stream",
     "text": [
      "Checking whether there is an H2O instance running at http://localhost:54321 . connected.\n"
     ]
    },
    {
     "data": {
      "text/html": [
       "<div style=\"overflow:auto\"><table style=\"width:50%\"><tr><td>H2O_cluster_uptime:</td>\n",
       "<td>12 mins 19 secs</td></tr>\n",
       "<tr><td>H2O_cluster_timezone:</td>\n",
       "<td>America/Chicago</td></tr>\n",
       "<tr><td>H2O_data_parsing_timezone:</td>\n",
       "<td>UTC</td></tr>\n",
       "<tr><td>H2O_cluster_version:</td>\n",
       "<td>3.36.1.1</td></tr>\n",
       "<tr><td>H2O_cluster_version_age:</td>\n",
       "<td>28 days, 17 hours and 48 minutes </td></tr>\n",
       "<tr><td>H2O_cluster_name:</td>\n",
       "<td>H2O_from_python_csridlen_366ufw</td></tr>\n",
       "<tr><td>H2O_cluster_total_nodes:</td>\n",
       "<td>1</td></tr>\n",
       "<tr><td>H2O_cluster_free_memory:</td>\n",
       "<td>1.321 Gb</td></tr>\n",
       "<tr><td>H2O_cluster_total_cores:</td>\n",
       "<td>8</td></tr>\n",
       "<tr><td>H2O_cluster_allowed_cores:</td>\n",
       "<td>8</td></tr>\n",
       "<tr><td>H2O_cluster_status:</td>\n",
       "<td>locked, healthy</td></tr>\n",
       "<tr><td>H2O_connection_url:</td>\n",
       "<td>http://localhost:54321</td></tr>\n",
       "<tr><td>H2O_connection_proxy:</td>\n",
       "<td>{\"http\": null, \"https\": null}</td></tr>\n",
       "<tr><td>H2O_internal_security:</td>\n",
       "<td>False</td></tr>\n",
       "<tr><td>Python_version:</td>\n",
       "<td>3.8.10 final</td></tr></table></div>"
      ],
      "text/plain": [
       "--------------------------  --------------------------------\n",
       "H2O_cluster_uptime:         12 mins 19 secs\n",
       "H2O_cluster_timezone:       America/Chicago\n",
       "H2O_data_parsing_timezone:  UTC\n",
       "H2O_cluster_version:        3.36.1.1\n",
       "H2O_cluster_version_age:    28 days, 17 hours and 48 minutes\n",
       "H2O_cluster_name:           H2O_from_python_csridlen_366ufw\n",
       "H2O_cluster_total_nodes:    1\n",
       "H2O_cluster_free_memory:    1.321 Gb\n",
       "H2O_cluster_total_cores:    8\n",
       "H2O_cluster_allowed_cores:  8\n",
       "H2O_cluster_status:         locked, healthy\n",
       "H2O_connection_url:         http://localhost:54321\n",
       "H2O_connection_proxy:       {\"http\": null, \"https\": null}\n",
       "H2O_internal_security:      False\n",
       "Python_version:             3.8.10 final\n",
       "--------------------------  --------------------------------"
      ]
     },
     "metadata": {},
     "output_type": "display_data"
    }
   ],
   "source": [
    "from word2vec_functions import *\n",
    "import h2o\n",
    "h2o.init()\n",
    "import numpy as np\n",
    "import pandas as pd\n",
    "from math import sqrt\n",
    "from h2o.estimators.word2vec import H2OWord2vecEstimator\n",
    "from h2o.estimators.gbm import H2OGradientBoostingEstimator\n",
    "import sklearn\n",
    "from sklearn import ensemble\n",
    "from sklearn.model_selection import train_test_split\n",
    "from sklearn.preprocessing import OneHotEncoder\n",
    "from sklearn.preprocessing import OrdinalEncoder\n",
    "from sklearn.pipeline import make_pipeline\n",
    "from sklearn.compose import make_column_transformer\n"
   ]
  },
  {
   "cell_type": "code",
   "execution_count": 2,
   "id": "dac8c2e6-af7a-45c0-81d2-4a6af0b6c367",
   "metadata": {},
   "outputs": [
    {
     "name": "stdout",
     "output_type": "stream",
     "text": [
      "Parse progress: |████████████████████████████████████████████████████████████████| (done) 100%\n",
      "word2vec Model Build progress: |█████████████████████████████████████████████████| (done) 100%\n"
     ]
    }
   ],
   "source": [
    "# Initializing word2vec model\n",
    "airbnb_path = \"../data/newnh_airbnb_2021.csv\"\n",
    "airbnb_names = h2o.import_file(airbnb_path, destination_frame = \"airbnbnames\",\n",
    "                             header = 1)\n",
    "# Create word vectors\n",
    "words = tokenize(airbnb_names[\"name\"])\n",
    "w2v_model = H2OWord2vecEstimator(sent_sample_rate = 0.0, epochs = 10)\n",
    "w2v_model.train(training_frame = words)\n",
    "airbnb_names_vecs = w2v_model.transform(words, aggregate_method = \"AVERAGE\")\n",
    "valid_airbnb_names = ~ airbnb_names_vecs[\"C1\"].isna()\n",
    "data = airbnb_names[valid_airbnb_names,:].cbind(airbnb_names_vecs[valid_airbnb_names,:])\n",
    "data_split = data.split_frame(ratios=[0.8])"
   ]
  },
  {
   "cell_type": "code",
   "execution_count": 3,
   "id": "773032a8-ea82-442a-b457-db02d05e779d",
   "metadata": {},
   "outputs": [
    {
     "name": "stdout",
     "output_type": "stream",
     "text": [
      "gbm Model Build progress: |██████████████████████████████████████████████████████| (done) 100%\n",
      "['C16', 'C71', 'C24', 'C58', 'C69', 'C56', 'C64', 'C98', 'C38', 'C89', 'C99', 'C72', 'C10', 'C43', 'C30', 'C63', 'C96', 'C41', 'C74', 'C14']\n"
     ]
    }
   ],
   "source": [
    "gbm_model = H2OGradientBoostingEstimator()\n",
    "gbm_model.train(x = airbnb_names_vecs.names,\n",
    "                y= \"price\", \n",
    "                training_frame = data_split[0], \n",
    "                validation_frame = data_split[1])\n",
    "\n",
    "# We can't just rely on the names because RMSE is pretty high\n",
    "\n",
    "varimp = gbm_model.varimp(use_pandas=True)\n",
    "top_20 = list(varimp.head(20)[\"variable\"])\n",
    "print(top_20)"
   ]
  },
  {
   "cell_type": "code",
   "execution_count": 4,
   "id": "6a61f3e4-4a4d-4ba0-a057-3c18e9b0c354",
   "metadata": {},
   "outputs": [
    {
     "data": {
      "text/html": [
       "<table>\n",
       "<thead>\n",
       "<tr><th style=\"text-align: right;\">        C89</th><th style=\"text-align: right;\">       C58</th><th style=\"text-align: right;\">        C24</th><th style=\"text-align: right;\">       C16</th><th style=\"text-align: right;\">        C98</th><th style=\"text-align: right;\">        C63</th><th style=\"text-align: right;\">        C43</th><th style=\"text-align: right;\">       C69</th><th style=\"text-align: right;\">        C14</th><th style=\"text-align: right;\">       C64</th><th style=\"text-align: right;\">       C41</th><th style=\"text-align: right;\">        C99</th><th style=\"text-align: right;\">       C56</th><th style=\"text-align: right;\">       C96</th><th style=\"text-align: right;\">        C72</th><th style=\"text-align: right;\">       C10</th><th style=\"text-align: right;\">       C38</th><th style=\"text-align: right;\">       C74</th><th style=\"text-align: right;\">       C30</th><th style=\"text-align: right;\">        C71</th></tr>\n",
       "</thead>\n",
       "<tbody>\n",
       "<tr><td style=\"text-align: right;\"> 0.0414929 </td><td style=\"text-align: right;\">-0.314065 </td><td style=\"text-align: right;\">-0.170191  </td><td style=\"text-align: right;\"> 0.314494 </td><td style=\"text-align: right;\">-0.0019736 </td><td style=\"text-align: right;\"> 0.0560044 </td><td style=\"text-align: right;\">-0.143456  </td><td style=\"text-align: right;\">-0.0355399</td><td style=\"text-align: right;\"> 0.0873906 </td><td style=\"text-align: right;\">-0.163774 </td><td style=\"text-align: right;\">-0.0800597</td><td style=\"text-align: right;\"> 0.042211  </td><td style=\"text-align: right;\">-0.0472068</td><td style=\"text-align: right;\">-0.204014 </td><td style=\"text-align: right;\">-0.0258083 </td><td style=\"text-align: right;\"> 0.142096 </td><td style=\"text-align: right;\"> 0.171781 </td><td style=\"text-align: right;\">0.013836  </td><td style=\"text-align: right;\"> 0.0646204</td><td style=\"text-align: right;\"> 0.00276503</td></tr>\n",
       "<tr><td style=\"text-align: right;\">-0.0488967 </td><td style=\"text-align: right;\">-0.197986 </td><td style=\"text-align: right;\">-0.240912  </td><td style=\"text-align: right;\"> 0.135397 </td><td style=\"text-align: right;\">-0.0521394 </td><td style=\"text-align: right;\"> 0.118144  </td><td style=\"text-align: right;\">-0.055534  </td><td style=\"text-align: right;\"> 0.108907 </td><td style=\"text-align: right;\">-0.0797843 </td><td style=\"text-align: right;\">-0.0179494</td><td style=\"text-align: right;\">-0.0872375</td><td style=\"text-align: right;\">-0.227657  </td><td style=\"text-align: right;\"> 0.018124 </td><td style=\"text-align: right;\">-0.0953801</td><td style=\"text-align: right;\">-0.0809367 </td><td style=\"text-align: right;\">-0.048385 </td><td style=\"text-align: right;\">-0.0496451</td><td style=\"text-align: right;\">0.0436898 </td><td style=\"text-align: right;\">-0.0267796</td><td style=\"text-align: right;\">-0.105073  </td></tr>\n",
       "<tr><td style=\"text-align: right;\"> 0.0388408 </td><td style=\"text-align: right;\">-0.159724 </td><td style=\"text-align: right;\">-0.31335   </td><td style=\"text-align: right;\"> 0.198705 </td><td style=\"text-align: right;\"> 0.0109361 </td><td style=\"text-align: right;\"> 0.0219084 </td><td style=\"text-align: right;\"> 0.0164988 </td><td style=\"text-align: right;\">-0.0348356</td><td style=\"text-align: right;\"> 0.206743  </td><td style=\"text-align: right;\"> 0.0197257</td><td style=\"text-align: right;\">-0.116792 </td><td style=\"text-align: right;\">-0.0200244 </td><td style=\"text-align: right;\"> 0.0864699</td><td style=\"text-align: right;\">-0.142611 </td><td style=\"text-align: right;\">-0.0994022 </td><td style=\"text-align: right;\">-0.130285 </td><td style=\"text-align: right;\">-0.0193499</td><td style=\"text-align: right;\">0.00216912</td><td style=\"text-align: right;\"> 0.185774 </td><td style=\"text-align: right;\"> 0.1622    </td></tr>\n",
       "<tr><td style=\"text-align: right;\">-0.197551  </td><td style=\"text-align: right;\">-0.118933 </td><td style=\"text-align: right;\">-0.00532131</td><td style=\"text-align: right;\"> 0.190949 </td><td style=\"text-align: right;\"> 0.0755526 </td><td style=\"text-align: right;\">-0.174513  </td><td style=\"text-align: right;\"> 0.145527  </td><td style=\"text-align: right;\">-0.0351942</td><td style=\"text-align: right;\">-0.149814  </td><td style=\"text-align: right;\"> 0.047343 </td><td style=\"text-align: right;\"> 0.0177735</td><td style=\"text-align: right;\">-0.0793491 </td><td style=\"text-align: right;\"> 0.217482 </td><td style=\"text-align: right;\">-0.338033 </td><td style=\"text-align: right;\"> 0.0609829 </td><td style=\"text-align: right;\"> 0.0924168</td><td style=\"text-align: right;\"> 0.13096  </td><td style=\"text-align: right;\">0.0288448 </td><td style=\"text-align: right;\">-0.232615 </td><td style=\"text-align: right;\">-0.318538  </td></tr>\n",
       "<tr><td style=\"text-align: right;\">-0.0347637 </td><td style=\"text-align: right;\">-0.221408 </td><td style=\"text-align: right;\"> 0.0432626 </td><td style=\"text-align: right;\"> 0.188089 </td><td style=\"text-align: right;\">-0.210913  </td><td style=\"text-align: right;\"> 0.0625676 </td><td style=\"text-align: right;\"> 0.0890583 </td><td style=\"text-align: right;\">-0.19489  </td><td style=\"text-align: right;\">-0.257446  </td><td style=\"text-align: right;\"> 0.139886 </td><td style=\"text-align: right;\">-0.128479 </td><td style=\"text-align: right;\">-0.0790875 </td><td style=\"text-align: right;\"> 0.206579 </td><td style=\"text-align: right;\">-0.124553 </td><td style=\"text-align: right;\">-0.00791913</td><td style=\"text-align: right;\">-0.114589 </td><td style=\"text-align: right;\"> 0.142946 </td><td style=\"text-align: right;\">0.0640596 </td><td style=\"text-align: right;\"> 0.160911 </td><td style=\"text-align: right;\">-0.213308  </td></tr>\n",
       "<tr><td style=\"text-align: right;\"> 0.0202626 </td><td style=\"text-align: right;\">-0.179782 </td><td style=\"text-align: right;\">-0.110493  </td><td style=\"text-align: right;\"> 0.222263 </td><td style=\"text-align: right;\"> 0.00602872</td><td style=\"text-align: right;\">-0.00599562</td><td style=\"text-align: right;\">-0.0946381 </td><td style=\"text-align: right;\">-0.0366089</td><td style=\"text-align: right;\">-0.00950434</td><td style=\"text-align: right;\">-0.0810127</td><td style=\"text-align: right;\">-0.141905 </td><td style=\"text-align: right;\">-0.0109641 </td><td style=\"text-align: right;\"> 0.255121 </td><td style=\"text-align: right;\">-0.0806258</td><td style=\"text-align: right;\"> 0.0463872 </td><td style=\"text-align: right;\"> 0.101333 </td><td style=\"text-align: right;\"> 0.140894 </td><td style=\"text-align: right;\">0.0047433 </td><td style=\"text-align: right;\"> 0.0783908</td><td style=\"text-align: right;\">-0.213151  </td></tr>\n",
       "<tr><td style=\"text-align: right;\">-0.200809  </td><td style=\"text-align: right;\">-0.146775 </td><td style=\"text-align: right;\">-0.122234  </td><td style=\"text-align: right;\">-0.0616028</td><td style=\"text-align: right;\"> 0.119583  </td><td style=\"text-align: right;\"> 0.0666368 </td><td style=\"text-align: right;\">-0.0348425 </td><td style=\"text-align: right;\">-0.182572 </td><td style=\"text-align: right;\">-0.226643  </td><td style=\"text-align: right;\">-0.0519168</td><td style=\"text-align: right;\"> 0.226666 </td><td style=\"text-align: right;\">-0.0902048 </td><td style=\"text-align: right;\"> 0.0371262</td><td style=\"text-align: right;\">-0.257692 </td><td style=\"text-align: right;\">-0.0456282 </td><td style=\"text-align: right;\"> 0.290187 </td><td style=\"text-align: right;\"> 0.07071  </td><td style=\"text-align: right;\">0.150159  </td><td style=\"text-align: right;\">-0.0514339</td><td style=\"text-align: right;\">-0.213527  </td></tr>\n",
       "<tr><td style=\"text-align: right;\">-0.0205146 </td><td style=\"text-align: right;\">-0.258371 </td><td style=\"text-align: right;\">-0.181212  </td><td style=\"text-align: right;\"> 0.257406 </td><td style=\"text-align: right;\">-0.124268  </td><td style=\"text-align: right;\">-0.0945426 </td><td style=\"text-align: right;\"> 0.0264063 </td><td style=\"text-align: right;\">-0.0326816</td><td style=\"text-align: right;\">-0.169061  </td><td style=\"text-align: right;\"> 0.131563 </td><td style=\"text-align: right;\">-0.163537 </td><td style=\"text-align: right;\">-0.0920382 </td><td style=\"text-align: right;\"> 0.0527756</td><td style=\"text-align: right;\">-0.15814  </td><td style=\"text-align: right;\">-0.0473768 </td><td style=\"text-align: right;\"> 0.118396 </td><td style=\"text-align: right;\">-0.0181307</td><td style=\"text-align: right;\">0.0759548 </td><td style=\"text-align: right;\"> 0.103577 </td><td style=\"text-align: right;\">-0.0419811 </td></tr>\n",
       "<tr><td style=\"text-align: right;\">-0.306076  </td><td style=\"text-align: right;\">-0.0615464</td><td style=\"text-align: right;\"> 0.10615   </td><td style=\"text-align: right;\"> 0.283102 </td><td style=\"text-align: right;\"> 0.0796312 </td><td style=\"text-align: right;\">-0.104361  </td><td style=\"text-align: right;\"> 0.151458  </td><td style=\"text-align: right;\">-0.0417312</td><td style=\"text-align: right;\"> 0.188649  </td><td style=\"text-align: right;\"> 0.0812921</td><td style=\"text-align: right;\"> 0.0623345</td><td style=\"text-align: right;\">-0.109441  </td><td style=\"text-align: right;\"> 0.123716 </td><td style=\"text-align: right;\">-0.110972 </td><td style=\"text-align: right;\">-0.0726835 </td><td style=\"text-align: right;\"> 0.134639 </td><td style=\"text-align: right;\">-0.135533 </td><td style=\"text-align: right;\">0.0357085 </td><td style=\"text-align: right;\"> 0.122675 </td><td style=\"text-align: right;\">-0.113716  </td></tr>\n",
       "<tr><td style=\"text-align: right;\">-0.00762284</td><td style=\"text-align: right;\">-0.0329112</td><td style=\"text-align: right;\">-0.00158766</td><td style=\"text-align: right;\"> 0.118969 </td><td style=\"text-align: right;\">-0.150835  </td><td style=\"text-align: right;\">-0.151157  </td><td style=\"text-align: right;\">-0.00870421</td><td style=\"text-align: right;\">-0.0389306</td><td style=\"text-align: right;\">-0.0340204 </td><td style=\"text-align: right;\">-0.0290756</td><td style=\"text-align: right;\">-0.039602 </td><td style=\"text-align: right;\"> 0.00227246</td><td style=\"text-align: right;\"> 0.0687493</td><td style=\"text-align: right;\">-0.064668 </td><td style=\"text-align: right;\">-0.0459878 </td><td style=\"text-align: right;\">-0.0338405</td><td style=\"text-align: right;\">-0.0409418</td><td style=\"text-align: right;\">0.0460234 </td><td style=\"text-align: right;\"> 0.0843163</td><td style=\"text-align: right;\">-0.273347  </td></tr>\n",
       "</tbody>\n",
       "</table>"
      ]
     },
     "metadata": {},
     "output_type": "display_data"
    },
    {
     "data": {
      "text/plain": []
     },
     "execution_count": 4,
     "metadata": {},
     "output_type": "execute_result"
    }
   ],
   "source": [
    "## In word2vec.ipynb, we see the top 20 most important categorizations\n",
    "# Let's filter just for those 20\n",
    "top_20_list = list(set(airbnb_names_vecs.names)  & set(top_20))\n",
    "airbnb_names_vecs = airbnb_names_vecs[valid_airbnb_names, :]\n",
    "airbnb_names_vecs = airbnb_names_vecs[top_20_list]\n",
    "airbnb_names_vecs\n",
    "#data = airbnb_names[valid_airbnb_names,:].cbind(airbnb_names_vecs[valid_airbnb_names,:])\n",
    "#data"
   ]
  },
  {
   "cell_type": "code",
   "execution_count": 5,
   "id": "9c546e7c-9e8a-4041-8fd3-b00d3fd8bf46",
   "metadata": {},
   "outputs": [
    {
     "data": {
      "text/plain": [
       "id                                  int64\n",
       "name                               object\n",
       "host_id                             int64\n",
       "host_name                          object\n",
       "neighbourhood_group                object\n",
       "neighbourhood                      object\n",
       "latitude                          float64\n",
       "longitude                         float64\n",
       "room_type                          object\n",
       "price                               int64\n",
       "minimum_nights                      int64\n",
       "number_of_reviews                   int64\n",
       "last_review                       float64\n",
       "reviews_per_month                 float64\n",
       "calculated_host_listings_count      int64\n",
       "availability_365                    int64\n",
       "number_of_reviews_ltm               int64\n",
       "license                           float64\n",
       "new_neighbourhood                  object\n",
       "C89                               float64\n",
       "C58                               float64\n",
       "C24                               float64\n",
       "C16                               float64\n",
       "C98                               float64\n",
       "C63                               float64\n",
       "C43                               float64\n",
       "C69                               float64\n",
       "C14                               float64\n",
       "C64                               float64\n",
       "C41                               float64\n",
       "C99                               float64\n",
       "C56                               float64\n",
       "C96                               float64\n",
       "C72                               float64\n",
       "C10                               float64\n",
       "C38                               float64\n",
       "C74                               float64\n",
       "C30                               float64\n",
       "C71                               float64\n",
       "dtype: object"
      ]
     },
     "execution_count": 5,
     "metadata": {},
     "output_type": "execute_result"
    }
   ],
   "source": [
    "data = airbnb_names[valid_airbnb_names,:].cbind(airbnb_names_vecs).as_data_frame()\n",
    "data.dtypes"
   ]
  },
  {
   "cell_type": "code",
   "execution_count": 6,
   "id": "54572673-932c-4afc-9be3-ebdb5e730c3a",
   "metadata": {},
   "outputs": [],
   "source": [
    "not_used = [\"id\", \"host_id\", \"name\", \"host_name\", \"neighbourhood\", \"latitude\", \"longitude\", \"price\", \"last_review\"]\n",
    "X = data.drop(not_used, axis = 1)\n",
    "# We want numbers to be of same type\n",
    "dict_ints = {'minimum_nights': float,\n",
    "             'number_of_reviews': float,\n",
    "             'calculated_host_listings_count': float,\n",
    "             'availability_365': float,\n",
    "             'number_of_reviews_ltm': float\n",
    "}\n",
    "X = X.astype(dict_ints)\n",
    "dict_cats = { \n",
    "    \"neighbourhood_group\": \"category\",\n",
    "    \"room_type\": \"category\",\n",
    "    \"new_neighbourhood\": \"category\"\n",
    "}\n",
    "list_cats = list(dict_cats.keys())\n",
    "\n",
    "X = X.astype(dict_cats)\n",
    "X.dtypes\n",
    "\n",
    "\n",
    "# Convert y to float as well\n",
    "y = data[\"price\"].astype(float)\n",
    "\n",
    "# One hot encode room type\n",
    "encoder = OneHotEncoder(handle_unknown = \"ignore\")\n",
    "encoder_df = pd.DataFrame(encoder.fit_transform(X[[\"room_type\"]]).toarray())\n",
    "# Merge with original dataset\n",
    "X_df = X.join(encoder_df)\n",
    "\n",
    "# Filter for top neighborhoods\n",
    "\n",
    "# One hot encode neighborhoods\n",
    "encoder_n = pd.DataFrame(encoder.fit_transform(X[[\"neighbourhood_group\"]]).toarray())\n",
    "encoder_n.columns = [4, 5, 6, 7, 8]\n",
    "# Merge with original dataset\n",
    "X = X_df.join(encoder_n)\n",
    "# Drop original categorical vartiables\n",
    "X.dtypes\n",
    "X = X.drop(list_cats, axis = 1)\n",
    "X.dtypes # all variables are floats\n",
    "X = X.fillna(0)\n"
   ]
  },
  {
   "cell_type": "code",
   "execution_count": 17,
   "id": "07e8d09e-3fc3-4405-b8b7-c746cf6622c3",
   "metadata": {},
   "outputs": [
    {
     "data": {
      "text/plain": [
       "GradientBoostingRegressor(learning_rate=0.01, max_depth=10, min_samples_split=5,\n",
       "                          n_estimators=500)"
      ]
     },
     "execution_count": 17,
     "metadata": {},
     "output_type": "execute_result"
    }
   ],
   "source": [
    "## Create gradient-boosted model\n",
    "# All feature names must be strings\n",
    "X.columns = X.columns.astype(str)\n",
    "# Split into train and test\n",
    "X_train, X_test, y_train, y_test = train_test_split(X, y, test_size = 0.2)\n",
    "params = {\n",
    "    \"n_estimators\": 500,\n",
    "    \"max_depth\": 10,\n",
    "    \"min_samples_split\": 5,\n",
    "    \"learning_rate\": 0.01,\n",
    "    \"loss\": \"squared_error\"}\n",
    "reg = ensemble.GradientBoostingRegressor(**params)\n",
    "reg.fit(X_train, y_train)"
   ]
  },
  {
   "cell_type": "code",
   "execution_count": 18,
   "id": "51cd7948-3b4c-4989-81b6-a04d7e30c5de",
   "metadata": {},
   "outputs": [
    {
     "name": "stdout",
     "output_type": "stream",
     "text": [
      "230.14216221806637\n"
     ]
    }
   ],
   "source": [
    "from sklearn.metrics import mean_squared_error\n",
    "rmse = sqrt(mean_squared_error(y_test, reg.predict(X_test))) # manually extract rmse from mse\n",
    "print(rmse) #out-of-sample rmse"
   ]
  },
  {
   "cell_type": "code",
   "execution_count": null,
   "id": "c2d95da2-cf02-4837-ad3a-9338ca8cb004",
   "metadata": {},
   "outputs": [],
   "source": [
    "# variable importance\n"
   ]
  },
  {
   "cell_type": "code",
   "execution_count": null,
   "id": "e35a7dce-903f-42c6-9b9d-013523009504",
   "metadata": {},
   "outputs": [],
   "source": [
    "names = pd.read_csv('../data/newnh_airbnb_2021.csv')[[\"id\", \"name\"]] # use this for later"
   ]
  }
 ],
 "metadata": {
  "kernelspec": {
   "display_name": "Python 3 (ipykernel)",
   "language": "python",
   "name": "python3"
  },
  "language_info": {
   "codemirror_mode": {
    "name": "ipython",
    "version": 3
   },
   "file_extension": ".py",
   "mimetype": "text/x-python",
   "name": "python",
   "nbconvert_exporter": "python",
   "pygments_lexer": "ipython3",
   "version": "3.8.10"
  }
 },
 "nbformat": 4,
 "nbformat_minor": 5
}
