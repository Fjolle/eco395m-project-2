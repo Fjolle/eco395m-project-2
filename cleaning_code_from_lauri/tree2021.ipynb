{
 "cells": [
  {
   "cell_type": "code",
   "execution_count": 17,
   "id": "160db91c-8b87-41ca-b8b3-18d8681955f7",
   "metadata": {},
   "outputs": [],
   "source": [
    "# Libraries\n",
    "import pandas as pd"
   ]
  },
  {
   "cell_type": "code",
   "execution_count": 22,
   "id": "13ef4f1c-fcd6-49a5-909b-680a6c1b2cd3",
   "metadata": {},
   "outputs": [
    {
     "name": "stdout",
     "output_type": "stream",
     "text": [
      "Index(['id', 'month', 'List_month', 'last_scraped', 'host_id', 'host_name',\n",
      "       'host_since', 'host_location', 'host_response_time',\n",
      "       'host_response_rate', 'host_is_superhost', 'host_listings_count',\n",
      "       'host_total_listings_count', 'neighbourhood', 'neighbourhood_cleansed',\n",
      "       'neighbourhood_group_cleansed', 'street', 'zipcode', 'latitude',\n",
      "       'longitude', 'is_location_exact', 'property_type', 'room_type',\n",
      "       'accommodates', 'bathrooms', 'bedrooms', 'beds', 'bed_type',\n",
      "       'square_feet', 'price', 'weekly_price', 'monthly_price',\n",
      "       'security_deposit', 'cleaning_fee', 'guests_included', 'extra_people',\n",
      "       'minimum_nights', 'maximum_nights', 'calendar_updated',\n",
      "       'calendar_last_scraped', 'has_availability', 'availability_30',\n",
      "       'availability_60', 'availability_90', 'availability_365',\n",
      "       'number_of_reviews', 'first_review', 'last_review',\n",
      "       'review_scores_rating', 'review_scores_accuracy',\n",
      "       'review_scores_cleanliness', 'review_scores_checkin',\n",
      "       'review_scores_communication', 'review_scores_location',\n",
      "       'review_scores_value', 'requires_license', 'license',\n",
      "       'instant_bookable', 'cancellation_policy',\n",
      "       'calculated_host_listings_count', 'reviews_per_month', 'amenities',\n",
      "       'scrape_batch', 'batch_YRMO', 'days_since_rev', 'days_since_first_rev',\n",
      "       'host_length', 'host_is_superhost_dum', 'room_type_dum',\n",
      "       'instant_bookable_dum', 'avg_lat', 'avg_lon', 'first_appearance',\n",
      "       'last_app', 'cum_sum', 'List_month_byhost_month',\n",
      "       'List_month_host_overall', 'List_month_id_overall', 'hotel_dum',\n",
      "       'entrant', 'List_month_byneigh', 'List_month_lag_byneigh',\n",
      "       'drop_indicator'],\n",
      "      dtype='object')\n"
     ]
    }
   ],
   "source": [
    "airbnbs = pd.read_csv(\"../data/NYC_1stStageClean_2021.csv.gz\", dtype = object)\n",
    "print(airbnbs.columns)"
   ]
  },
  {
   "cell_type": "code",
   "execution_count": null,
   "id": "8dc4cedf-18e8-4a00-b9a2-54cf86158caf",
   "metadata": {},
   "outputs": [],
   "source": [
    "used = [\"month\", \"host_response_time\", \"host_response_rate\",\n",
    "       \"host_is_superhost\",\n",
    "       \"host_total_listings_count\",\n",
    "       \"neighbourhood_cleansed\",\n",
    "       \"neighbourhood_group_cleansed\",\n",
    "       \"zipcode\",\n",
    "       \"accommodates\",\n",
    "       'bathrooms', 'bedrooms', 'beds', 'bed_type',\n",
    "       'square_feet', 'price', 'weekly_price', 'monthly_price',\n",
    "       'security_deposit', 'cleaning_fee', 'guests_included', 'extra_people',\n",
    "       'minimum_nights', 'maximum_nights', 'calendar_updated','has_availability', 'availability_30',\n",
    "       'availability_60', 'availability_90', 'availability_365',\n",
    "       'number_of_reviews','review_scores_rating', 'review_scores_accuracy',\n",
    "       'review_scores_cleanliness', 'review_scores_checkin',\n",
    "       'review_scores_communication', 'review_scores_location',\n",
    "       'review_scores_value', 'requires_license','reviews_per_month', 'amenities', 'hotel_dum',\n",
    "       'entrant', 'List_month_byneigh', 'List_month_lag_byneigh',\n",
    "       'drop_indicator']\n",
    "data = airbnbs[used]\n"
   ]
  }
 ],
 "metadata": {
  "kernelspec": {
   "display_name": "Python 3 (ipykernel)",
   "language": "python",
   "name": "python3"
  },
  "language_info": {
   "codemirror_mode": {
    "name": "ipython",
    "version": 3
   },
   "file_extension": ".py",
   "mimetype": "text/x-python",
   "name": "python",
   "nbconvert_exporter": "python",
   "pygments_lexer": "ipython3",
   "version": "3.8.10"
  }
 },
 "nbformat": 4,
 "nbformat_minor": 5
}
